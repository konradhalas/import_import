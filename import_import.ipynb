{
 "metadata": {
  "name": ""
 },
 "nbformat": 3,
 "nbformat_minor": 0,
 "worksheets": [
  {
   "cells": [
    {
     "cell_type": "markdown",
     "metadata": {
      "slideshow": {
       "slide_type": "slide"
      }
     },
     "source": [
      "import import\n",
      "=============\n",
      "\n",
      "- dive into Python import statement\n",
      "-----------------------------------\n",
      "\n",
      "Konrad Ha\u0142as (@konradhalas)"
     ]
    },
    {
     "cell_type": "markdown",
     "metadata": {
      "slideshow": {
       "slide_type": "slide"
      }
     },
     "source": [
      "Few words about me\n",
      "==================\n",
      "\n",
      "* PyWaw co-organizer\n",
      "* developer in SUNSCRAPERS\n",
      "* MutPy author"
     ]
    },
    {
     "cell_type": "markdown",
     "metadata": {
      "slideshow": {
       "slide_type": "slide"
      }
     },
     "source": [
      "Agenda\n",
      "======\n",
      "\n",
      "* presentation purpose\n",
      "* basic info\n",
      "* syntax history\n",
      "* inside machinery\n",
      "* best practices\n",
      "* common problems"
     ]
    },
    {
     "cell_type": "markdown",
     "metadata": {
      "slideshow": {
       "slide_type": "slide"
      }
     },
     "source": [
      "Presentation purpose\n",
      "====================\n",
      "\n",
      "* understand how import statement works\n",
      "* learn how to override standard import behavior\n",
      "* prepare to meet with \"magic\" import code in other projects\n",
      "* do it well and avoid problems"
     ]
    },
    {
     "cell_type": "markdown",
     "metadata": {
      "slideshow": {
       "slide_type": "slide"
      }
     },
     "source": [
      "What is purpose of import statement?\n",
      "====================================\n",
      "\n",
      "* it allows to use code from other modules\n",
      "* it allows to split code into multiple modules"
     ]
    },
    {
     "cell_type": "markdown",
     "metadata": {
      "slideshow": {
       "slide_type": "slide"
      }
     },
     "source": [
      "What does import statement do?\n",
      "==============================\n",
      "\n",
      "* find a module\n",
      "* initialize it if necessary\n",
      "* define a name or names in the local namespace "
     ]
    },
    {
     "cell_type": "markdown",
     "metadata": {
      "slideshow": {
       "slide_type": "slide"
      }
     },
     "source": [
      "Syntax history\n",
      "=============="
     ]
    },
    {
     "cell_type": "markdown",
     "metadata": {
      "slideshow": {
       "slide_type": "slide"
      }
     },
     "source": [
      "Python 1.0.0 - 1994\n",
      "===================\n",
      "\n"
     ]
    },
    {
     "cell_type": "raw",
     "metadata": {},
     "source": [
      "<pre>\n",
      "    import_stmt:  \"import\" identifier (\",\" identifier)*\n",
      "                  | \"from\" identifier \"import\" identifier (\",\" identifier)*\n",
      "                  | \"from\" identifier \"import\" \"*\"\n",
      "</pre>"
     ]
    },
    {
     "cell_type": "markdown",
     "metadata": {
      "slideshow": {
       "slide_type": "slide"
      }
     },
     "source": [
      "Python 1.5.0 - 1997\n",
      "==================="
     ]
    },
    {
     "cell_type": "raw",
     "metadata": {},
     "source": [
      "<pre>    \n",
      "    import_stmt:  \"import\" module (\",\" module)* \n",
      "                  | \"from\" module \"import\" identifier (\",\" identifier)*\n",
      "                  | \"from\" module \"import\" \"*\" \n",
      "    module:       (identifier \".\")* identifier\n",
      "</pre>"
     ]
    },
    {
     "cell_type": "markdown",
     "metadata": {
      "slideshow": {
       "slide_type": "slide"
      }
     },
     "source": [
      "Python 2.0.0 - 2000\n",
      "==================="
     ]
    },
    {
     "cell_type": "raw",
     "metadata": {},
     "source": [
      "<pre>\n",
      "    import_stmt:  \"import\" module [\"as\" name] (\",\" module [\"as\" name] )* \n",
      "                  | \"from\" module \"import\" identifier [\"as\" name]\n",
      "                  (\",\" identifier [\"as\" name] )*\n",
      "                  | \"from\" module \"import\" \"*\" \n",
      "    module:       (identifier \".\")* identifier\n",
      "</pre>"
     ]
    },
    {
     "cell_type": "markdown",
     "metadata": {
      "slideshow": {
       "slide_type": "slide"
      }
     },
     "source": [
      "Python 2.5.0 - 2006\n",
      "==================="
     ]
    },
    {
     "cell_type": "raw",
     "metadata": {
      "slideshow": {
       "slide_type": "-"
      }
     },
     "source": [
      "<pre>\n",
      "    import_stmt:       \"import\" module [\"as\" name] ( \",\" module [\"as\" name] )*\n",
      "                       | \"from\" relative_module \"import\" identifier [\"as\" name]\n",
      "                       ( \",\" identifier [\"as\" name] )*\n",
      "                       | \"from\" relative_module \"import\" \"(\" identifier [\"as\" name]\n",
      "                       ( \",\" identifier [\"as\" name] )* [\",\"] \")\"\n",
      "                       | \"from\" module \"import\" \"*\"\n",
      "    module :           (identifier \".\")* identifier\n",
      "    relative_module :  \".\"* module | \".\"+\n",
      "    name :             identifier\n",
      "</pre>"
     ]
    },
    {
     "cell_type": "markdown",
     "metadata": {
      "slideshow": {
       "slide_type": "slide"
      }
     },
     "source": [
      "import statement machinery\n",
      "==========================\n",
      "\n",
      "* defined in **PEP 302** (\"New Import Hooks\")\n",
      "* introduced in **Python 2.3** (2003)\n",
      "* complete integration in **Python 3.3** (2012)"
     ]
    },
    {
     "cell_type": "markdown",
     "metadata": {
      "slideshow": {
       "slide_type": "slide"
      }
     },
     "source": [
      "Let's start...\n",
      "=============="
     ]
    },
    {
     "cell_type": "markdown",
     "metadata": {
      "slideshow": {
       "slide_type": "slide"
      }
     },
     "source": [
      "Machinery structures\n",
      "====================\n",
      "\n",
      "1. `sys.modules`\n",
      "2. `sys.meta_path`\n",
      "3. `sys.path`\n",
      "4. `sys.path_hooks`\n",
      "5. `sys.path_importer_cache`"
     ]
    },
    {
     "cell_type": "markdown",
     "metadata": {
      "slideshow": {
       "slide_type": "slide"
      }
     },
     "source": [
      "`sys.modules`\n",
      "=============\n",
      "\n",
      "This is a dictionary that maps module names to modules which have already been loaded."
     ]
    },
    {
     "cell_type": "code",
     "collapsed": false,
     "input": [
      "import sys\n",
      "\n",
      "sys.modules"
     ],
     "language": "python",
     "metadata": {
      "slideshow": {
       "slide_type": "slide"
      }
     },
     "outputs": [
      {
       "metadata": {},
       "output_type": "pyout",
       "prompt_number": 1,
       "text": [
        "{'IPython': <module 'IPython' from '/Users/konradhalas/dev/virtualenvs/import_import/lib/python3.3/site-packages/IPython/__init__.py'>,\n",
        " 'IPython.config': <module 'IPython.config' from '/Users/konradhalas/dev/virtualenvs/import_import/lib/python3.3/site-packages/IPython/config/__init__.py'>,\n",
        " 'IPython.config.application': <module 'IPython.config.application' from '/Users/konradhalas/dev/virtualenvs/import_import/lib/python3.3/site-packages/IPython/config/application.py'>,\n",
        " 'IPython.config.configurable': <module 'IPython.config.configurable' from '/Users/konradhalas/dev/virtualenvs/import_import/lib/python3.3/site-packages/IPython/config/configurable.py'>,\n",
        " 'IPython.config.loader': <module 'IPython.config.loader' from '/Users/konradhalas/dev/virtualenvs/import_import/lib/python3.3/site-packages/IPython/config/loader.py'>,\n",
        " 'IPython.core': <module 'IPython.core' from '/Users/konradhalas/dev/virtualenvs/import_import/lib/python3.3/site-packages/IPython/core/__init__.py'>,\n",
        " 'IPython.core.alias': <module 'IPython.core.alias' from '/Users/konradhalas/dev/virtualenvs/import_import/lib/python3.3/site-packages/IPython/core/alias.py'>,\n",
        " 'IPython.core.application': <module 'IPython.core.application' from '/Users/konradhalas/dev/virtualenvs/import_import/lib/python3.3/site-packages/IPython/core/application.py'>,\n",
        " 'IPython.core.autocall': <module 'IPython.core.autocall' from '/Users/konradhalas/dev/virtualenvs/import_import/lib/python3.3/site-packages/IPython/core/autocall.py'>,\n",
        " 'IPython.core.builtin_trap': <module 'IPython.core.builtin_trap' from '/Users/konradhalas/dev/virtualenvs/import_import/lib/python3.3/site-packages/IPython/core/builtin_trap.py'>,\n",
        " 'IPython.core.compilerop': <module 'IPython.core.compilerop' from '/Users/konradhalas/dev/virtualenvs/import_import/lib/python3.3/site-packages/IPython/core/compilerop.py'>,\n",
        " 'IPython.core.completer': <module 'IPython.core.completer' from '/Users/konradhalas/dev/virtualenvs/import_import/lib/python3.3/site-packages/IPython/core/completer.py'>,\n",
        " 'IPython.core.completerlib': <module 'IPython.core.completerlib' from '/Users/konradhalas/dev/virtualenvs/import_import/lib/python3.3/site-packages/IPython/core/completerlib.py'>,\n",
        " 'IPython.core.crashhandler': <module 'IPython.core.crashhandler' from '/Users/konradhalas/dev/virtualenvs/import_import/lib/python3.3/site-packages/IPython/core/crashhandler.py'>,\n",
        " 'IPython.core.debugger': <module 'IPython.core.debugger' from '/Users/konradhalas/dev/virtualenvs/import_import/lib/python3.3/site-packages/IPython/core/debugger.py'>,\n",
        " 'IPython.core.display': <module 'IPython.core.display' from '/Users/konradhalas/dev/virtualenvs/import_import/lib/python3.3/site-packages/IPython/core/display.py'>,\n",
        " 'IPython.core.display_trap': <module 'IPython.core.display_trap' from '/Users/konradhalas/dev/virtualenvs/import_import/lib/python3.3/site-packages/IPython/core/display_trap.py'>,\n",
        " 'IPython.core.displayhook': <module 'IPython.core.displayhook' from '/Users/konradhalas/dev/virtualenvs/import_import/lib/python3.3/site-packages/IPython/core/displayhook.py'>,\n",
        " 'IPython.core.displaypub': <module 'IPython.core.displaypub' from '/Users/konradhalas/dev/virtualenvs/import_import/lib/python3.3/site-packages/IPython/core/displaypub.py'>,\n",
        " 'IPython.core.error': <module 'IPython.core.error' from '/Users/konradhalas/dev/virtualenvs/import_import/lib/python3.3/site-packages/IPython/core/error.py'>,\n",
        " 'IPython.core.excolors': <module 'IPython.core.excolors' from '/Users/konradhalas/dev/virtualenvs/import_import/lib/python3.3/site-packages/IPython/core/excolors.py'>,\n",
        " 'IPython.core.extensions': <module 'IPython.core.extensions' from '/Users/konradhalas/dev/virtualenvs/import_import/lib/python3.3/site-packages/IPython/core/extensions.py'>,\n",
        " 'IPython.core.fakemodule': <module 'IPython.core.fakemodule' from '/Users/konradhalas/dev/virtualenvs/import_import/lib/python3.3/site-packages/IPython/core/fakemodule.py'>,\n",
        " 'IPython.core.formatters': <module 'IPython.core.formatters' from '/Users/konradhalas/dev/virtualenvs/import_import/lib/python3.3/site-packages/IPython/core/formatters.py'>,\n",
        " 'IPython.core.getipython': <module 'IPython.core.getipython' from '/Users/konradhalas/dev/virtualenvs/import_import/lib/python3.3/site-packages/IPython/core/getipython.py'>,\n",
        " 'IPython.core.history': <module 'IPython.core.history' from '/Users/konradhalas/dev/virtualenvs/import_import/lib/python3.3/site-packages/IPython/core/history.py'>,\n",
        " 'IPython.core.hooks': <module 'IPython.core.hooks' from '/Users/konradhalas/dev/virtualenvs/import_import/lib/python3.3/site-packages/IPython/core/hooks.py'>,\n",
        " 'IPython.core.inputsplitter': <module 'IPython.core.inputsplitter' from '/Users/konradhalas/dev/virtualenvs/import_import/lib/python3.3/site-packages/IPython/core/inputsplitter.py'>,\n",
        " 'IPython.core.inputtransformer': <module 'IPython.core.inputtransformer' from '/Users/konradhalas/dev/virtualenvs/import_import/lib/python3.3/site-packages/IPython/core/inputtransformer.py'>,\n",
        " 'IPython.core.interactiveshell': <module 'IPython.core.interactiveshell' from '/Users/konradhalas/dev/virtualenvs/import_import/lib/python3.3/site-packages/IPython/core/interactiveshell.py'>,\n",
        " 'IPython.core.logger': <module 'IPython.core.logger' from '/Users/konradhalas/dev/virtualenvs/import_import/lib/python3.3/site-packages/IPython/core/logger.py'>,\n",
        " 'IPython.core.macro': <module 'IPython.core.macro' from '/Users/konradhalas/dev/virtualenvs/import_import/lib/python3.3/site-packages/IPython/core/macro.py'>,\n",
        " 'IPython.core.magic': <module 'IPython.core.magic' from '/Users/konradhalas/dev/virtualenvs/import_import/lib/python3.3/site-packages/IPython/core/magic.py'>,\n",
        " 'IPython.core.magic_arguments': <module 'IPython.core.magic_arguments' from '/Users/konradhalas/dev/virtualenvs/import_import/lib/python3.3/site-packages/IPython/core/magic_arguments.py'>,\n",
        " 'IPython.core.magics': <module 'IPython.core.magics' from '/Users/konradhalas/dev/virtualenvs/import_import/lib/python3.3/site-packages/IPython/core/magics/__init__.py'>,\n",
        " 'IPython.core.magics.auto': <module 'IPython.core.magics.auto' from '/Users/konradhalas/dev/virtualenvs/import_import/lib/python3.3/site-packages/IPython/core/magics/auto.py'>,\n",
        " 'IPython.core.magics.basic': <module 'IPython.core.magics.basic' from '/Users/konradhalas/dev/virtualenvs/import_import/lib/python3.3/site-packages/IPython/core/magics/basic.py'>,\n",
        " 'IPython.core.magics.code': <module 'IPython.core.magics.code' from '/Users/konradhalas/dev/virtualenvs/import_import/lib/python3.3/site-packages/IPython/core/magics/code.py'>,\n",
        " 'IPython.core.magics.config': <module 'IPython.core.magics.config' from '/Users/konradhalas/dev/virtualenvs/import_import/lib/python3.3/site-packages/IPython/core/magics/config.py'>,\n",
        " 'IPython.core.magics.deprecated': <module 'IPython.core.magics.deprecated' from '/Users/konradhalas/dev/virtualenvs/import_import/lib/python3.3/site-packages/IPython/core/magics/deprecated.py'>,\n",
        " 'IPython.core.magics.display': <module 'IPython.core.magics.display' from '/Users/konradhalas/dev/virtualenvs/import_import/lib/python3.3/site-packages/IPython/core/magics/display.py'>,\n",
        " 'IPython.core.magics.execution': <module 'IPython.core.magics.execution' from '/Users/konradhalas/dev/virtualenvs/import_import/lib/python3.3/site-packages/IPython/core/magics/execution.py'>,\n",
        " 'IPython.core.magics.extension': <module 'IPython.core.magics.extension' from '/Users/konradhalas/dev/virtualenvs/import_import/lib/python3.3/site-packages/IPython/core/magics/extension.py'>,\n",
        " 'IPython.core.magics.history': <module 'IPython.core.magics.history' from '/Users/konradhalas/dev/virtualenvs/import_import/lib/python3.3/site-packages/IPython/core/magics/history.py'>,\n",
        " 'IPython.core.magics.logging': <module 'IPython.core.magics.logging' from '/Users/konradhalas/dev/virtualenvs/import_import/lib/python3.3/site-packages/IPython/core/magics/logging.py'>,\n",
        " 'IPython.core.magics.namespace': <module 'IPython.core.magics.namespace' from '/Users/konradhalas/dev/virtualenvs/import_import/lib/python3.3/site-packages/IPython/core/magics/namespace.py'>,\n",
        " 'IPython.core.magics.osm': <module 'IPython.core.magics.osm' from '/Users/konradhalas/dev/virtualenvs/import_import/lib/python3.3/site-packages/IPython/core/magics/osm.py'>,\n",
        " 'IPython.core.magics.pylab': <module 'IPython.core.magics.pylab' from '/Users/konradhalas/dev/virtualenvs/import_import/lib/python3.3/site-packages/IPython/core/magics/pylab.py'>,\n",
        " 'IPython.core.magics.script': <module 'IPython.core.magics.script' from '/Users/konradhalas/dev/virtualenvs/import_import/lib/python3.3/site-packages/IPython/core/magics/script.py'>,\n",
        " 'IPython.core.oinspect': <module 'IPython.core.oinspect' from '/Users/konradhalas/dev/virtualenvs/import_import/lib/python3.3/site-packages/IPython/core/oinspect.py'>,\n",
        " 'IPython.core.page': <module 'IPython.core.page' from '/Users/konradhalas/dev/virtualenvs/import_import/lib/python3.3/site-packages/IPython/core/page.py'>,\n",
        " 'IPython.core.payload': <module 'IPython.core.payload' from '/Users/konradhalas/dev/virtualenvs/import_import/lib/python3.3/site-packages/IPython/core/payload.py'>,\n",
        " 'IPython.core.payloadpage': <module 'IPython.core.payloadpage' from '/Users/konradhalas/dev/virtualenvs/import_import/lib/python3.3/site-packages/IPython/core/payloadpage.py'>,\n",
        " 'IPython.core.prefilter': <module 'IPython.core.prefilter' from '/Users/konradhalas/dev/virtualenvs/import_import/lib/python3.3/site-packages/IPython/core/prefilter.py'>,\n",
        " 'IPython.core.profiledir': <module 'IPython.core.profiledir' from '/Users/konradhalas/dev/virtualenvs/import_import/lib/python3.3/site-packages/IPython/core/profiledir.py'>,\n",
        " 'IPython.core.prompts': <module 'IPython.core.prompts' from '/Users/konradhalas/dev/virtualenvs/import_import/lib/python3.3/site-packages/IPython/core/prompts.py'>,\n",
        " 'IPython.core.pylabtools': <module 'IPython.core.pylabtools' from '/Users/konradhalas/dev/virtualenvs/import_import/lib/python3.3/site-packages/IPython/core/pylabtools.py'>,\n",
        " 'IPython.core.release': <module 'IPython.core.release' from '/Users/konradhalas/dev/virtualenvs/import_import/lib/python3.3/site-packages/IPython/core/release.py'>,\n",
        " 'IPython.core.shadowns': <module 'IPython.core.shadowns' from '/Users/konradhalas/dev/virtualenvs/import_import/lib/python3.3/site-packages/IPython/core/shadowns.py'>,\n",
        " 'IPython.core.shellapp': <module 'IPython.core.shellapp' from '/Users/konradhalas/dev/virtualenvs/import_import/lib/python3.3/site-packages/IPython/core/shellapp.py'>,\n",
        " 'IPython.core.splitinput': <module 'IPython.core.splitinput' from '/Users/konradhalas/dev/virtualenvs/import_import/lib/python3.3/site-packages/IPython/core/splitinput.py'>,\n",
        " 'IPython.core.ultratb': <module 'IPython.core.ultratb' from '/Users/konradhalas/dev/virtualenvs/import_import/lib/python3.3/site-packages/IPython/core/ultratb.py'>,\n",
        " 'IPython.core.usage': <module 'IPython.core.usage' from '/Users/konradhalas/dev/virtualenvs/import_import/lib/python3.3/site-packages/IPython/core/usage.py'>,\n",
        " 'IPython.display': <module 'IPython.display' from '/Users/konradhalas/dev/virtualenvs/import_import/lib/python3.3/site-packages/IPython/display.py'>,\n",
        " 'IPython.extensions': <module 'IPython.extensions' from '/Users/konradhalas/dev/virtualenvs/import_import/lib/python3.3/site-packages/IPython/extensions/__init__.py'>,\n",
        " 'IPython.extensions.storemagic': <module 'IPython.extensions.storemagic' from '/Users/konradhalas/dev/virtualenvs/import_import/lib/python3.3/site-packages/IPython/extensions/storemagic.py'>,\n",
        " 'IPython.external': <module 'IPython.external' from '/Users/konradhalas/dev/virtualenvs/import_import/lib/python3.3/site-packages/IPython/external/__init__.py'>,\n",
        " 'IPython.external.argparse': <module 'IPython.external.argparse' from '/Users/konradhalas/dev/virtualenvs/import_import/lib/python3.3/site-packages/IPython/external/argparse/__init__.py'>,\n",
        " 'IPython.external.decorator': <module 'IPython.external.decorator' from '/Users/konradhalas/dev/virtualenvs/import_import/lib/python3.3/site-packages/IPython/external/decorator/__init__.py'>,\n",
        " 'IPython.external.decorator._decorator': <module 'IPython.external.decorator._decorator' from '/Users/konradhalas/dev/virtualenvs/import_import/lib/python3.3/site-packages/IPython/external/decorator/_decorator.py'>,\n",
        " 'IPython.external.path': <module 'IPython.external.path' from '/Users/konradhalas/dev/virtualenvs/import_import/lib/python3.3/site-packages/IPython/external/path/__init__.py'>,\n",
        " 'IPython.external.path._path': <module 'IPython.external.path._path' from '/Users/konradhalas/dev/virtualenvs/import_import/lib/python3.3/site-packages/IPython/external/path/_path.py'>,\n",
        " 'IPython.external.pexpect': <module 'IPython.external.pexpect' from '/Users/konradhalas/dev/virtualenvs/import_import/lib/python3.3/site-packages/IPython/external/pexpect/__init__.py'>,\n",
        " 'IPython.external.pexpect._pexpect': <module 'IPython.external.pexpect._pexpect' from '/Users/konradhalas/dev/virtualenvs/import_import/lib/python3.3/site-packages/IPython/external/pexpect/_pexpect.py'>,\n",
        " 'IPython.external.simplegeneric': <module 'IPython.external.simplegeneric' from '/Users/konradhalas/dev/virtualenvs/import_import/lib/python3.3/site-packages/IPython/external/simplegeneric/__init__.py'>,\n",
        " 'IPython.external.simplegeneric._simplegeneric': <module 'IPython.external.simplegeneric._simplegeneric' from '/Users/konradhalas/dev/virtualenvs/import_import/lib/python3.3/site-packages/IPython/external/simplegeneric/_simplegeneric.py'>,\n",
        " 'IPython.external.ssh': <module 'IPython.external.ssh' from '/Users/konradhalas/dev/virtualenvs/import_import/lib/python3.3/site-packages/IPython/external/ssh/__init__.py'>,\n",
        " 'IPython.external.ssh.tunnel': <module 'IPython.external.ssh.tunnel' from '/Users/konradhalas/dev/virtualenvs/import_import/lib/python3.3/site-packages/IPython/external/ssh/tunnel.py'>,\n",
        " 'IPython.kernel': <module 'IPython.kernel' from '/Users/konradhalas/dev/virtualenvs/import_import/lib/python3.3/site-packages/IPython/kernel/__init__.py'>,\n",
        " 'IPython.kernel.blocking': <module 'IPython.kernel.blocking' from '/Users/konradhalas/dev/virtualenvs/import_import/lib/python3.3/site-packages/IPython/kernel/blocking/__init__.py'>,\n",
        " 'IPython.kernel.blocking.channels': <module 'IPython.kernel.blocking.channels' from '/Users/konradhalas/dev/virtualenvs/import_import/lib/python3.3/site-packages/IPython/kernel/blocking/channels.py'>,\n",
        " 'IPython.kernel.blocking.client': <module 'IPython.kernel.blocking.client' from '/Users/konradhalas/dev/virtualenvs/import_import/lib/python3.3/site-packages/IPython/kernel/blocking/client.py'>,\n",
        " 'IPython.kernel.channels': <module 'IPython.kernel.channels' from '/Users/konradhalas/dev/virtualenvs/import_import/lib/python3.3/site-packages/IPython/kernel/channels.py'>,\n",
        " 'IPython.kernel.channelsabc': <module 'IPython.kernel.channelsabc' from '/Users/konradhalas/dev/virtualenvs/import_import/lib/python3.3/site-packages/IPython/kernel/channelsabc.py'>,\n",
        " 'IPython.kernel.client': <module 'IPython.kernel.client' from '/Users/konradhalas/dev/virtualenvs/import_import/lib/python3.3/site-packages/IPython/kernel/client.py'>,\n",
        " 'IPython.kernel.clientabc': <module 'IPython.kernel.clientabc' from '/Users/konradhalas/dev/virtualenvs/import_import/lib/python3.3/site-packages/IPython/kernel/clientabc.py'>,\n",
        " 'IPython.kernel.connect': <module 'IPython.kernel.connect' from '/Users/konradhalas/dev/virtualenvs/import_import/lib/python3.3/site-packages/IPython/kernel/connect.py'>,\n",
        " 'IPython.kernel.inprocess': <module 'IPython.kernel.inprocess' from '/Users/konradhalas/dev/virtualenvs/import_import/lib/python3.3/site-packages/IPython/kernel/inprocess/__init__.py'>,\n",
        " 'IPython.kernel.inprocess.blocking': <module 'IPython.kernel.inprocess.blocking' from '/Users/konradhalas/dev/virtualenvs/import_import/lib/python3.3/site-packages/IPython/kernel/inprocess/blocking.py'>,\n",
        " 'IPython.kernel.inprocess.channels': <module 'IPython.kernel.inprocess.channels' from '/Users/konradhalas/dev/virtualenvs/import_import/lib/python3.3/site-packages/IPython/kernel/inprocess/channels.py'>,\n",
        " 'IPython.kernel.inprocess.client': <module 'IPython.kernel.inprocess.client' from '/Users/konradhalas/dev/virtualenvs/import_import/lib/python3.3/site-packages/IPython/kernel/inprocess/client.py'>,\n",
        " 'IPython.kernel.inprocess.manager': <module 'IPython.kernel.inprocess.manager' from '/Users/konradhalas/dev/virtualenvs/import_import/lib/python3.3/site-packages/IPython/kernel/inprocess/manager.py'>,\n",
        " 'IPython.kernel.inprocess.socket': <module 'IPython.kernel.inprocess.socket' from '/Users/konradhalas/dev/virtualenvs/import_import/lib/python3.3/site-packages/IPython/kernel/inprocess/socket.py'>,\n",
        " 'IPython.kernel.launcher': <module 'IPython.kernel.launcher' from '/Users/konradhalas/dev/virtualenvs/import_import/lib/python3.3/site-packages/IPython/kernel/launcher.py'>,\n",
        " 'IPython.kernel.manager': <module 'IPython.kernel.manager' from '/Users/konradhalas/dev/virtualenvs/import_import/lib/python3.3/site-packages/IPython/kernel/manager.py'>,\n",
        " 'IPython.kernel.managerabc': <module 'IPython.kernel.managerabc' from '/Users/konradhalas/dev/virtualenvs/import_import/lib/python3.3/site-packages/IPython/kernel/managerabc.py'>,\n",
        " 'IPython.kernel.multikernelmanager': <module 'IPython.kernel.multikernelmanager' from '/Users/konradhalas/dev/virtualenvs/import_import/lib/python3.3/site-packages/IPython/kernel/multikernelmanager.py'>,\n",
        " 'IPython.kernel.zmq': <module 'IPython.kernel.zmq' from '/Users/konradhalas/dev/virtualenvs/import_import/lib/python3.3/site-packages/IPython/kernel/zmq/__init__.py'>,\n",
        " 'IPython.kernel.zmq.datapub': <module 'IPython.kernel.zmq.datapub' from '/Users/konradhalas/dev/virtualenvs/import_import/lib/python3.3/site-packages/IPython/kernel/zmq/datapub.py'>,\n",
        " 'IPython.kernel.zmq.displayhook': <module 'IPython.kernel.zmq.displayhook' from '/Users/konradhalas/dev/virtualenvs/import_import/lib/python3.3/site-packages/IPython/kernel/zmq/displayhook.py'>,\n",
        " 'IPython.kernel.zmq.heartbeat': <module 'IPython.kernel.zmq.heartbeat' from '/Users/konradhalas/dev/virtualenvs/import_import/lib/python3.3/site-packages/IPython/kernel/zmq/heartbeat.py'>,\n",
        " 'IPython.kernel.zmq.iostream': <module 'IPython.kernel.zmq.iostream' from '/Users/konradhalas/dev/virtualenvs/import_import/lib/python3.3/site-packages/IPython/kernel/zmq/iostream.py'>,\n",
        " 'IPython.kernel.zmq.ipkernel': <module 'IPython.kernel.zmq.ipkernel' from '/Users/konradhalas/dev/virtualenvs/import_import/lib/python3.3/site-packages/IPython/kernel/zmq/ipkernel.py'>,\n",
        " 'IPython.kernel.zmq.kernelapp': <module 'IPython.kernel.zmq.kernelapp' from '/Users/konradhalas/dev/virtualenvs/import_import/lib/python3.3/site-packages/IPython/kernel/zmq/kernelapp.py'>,\n",
        " 'IPython.kernel.zmq.parentpoller': <module 'IPython.kernel.zmq.parentpoller' from '/Users/konradhalas/dev/virtualenvs/import_import/lib/python3.3/site-packages/IPython/kernel/zmq/parentpoller.py'>,\n",
        " 'IPython.kernel.zmq.serialize': <module 'IPython.kernel.zmq.serialize' from '/Users/konradhalas/dev/virtualenvs/import_import/lib/python3.3/site-packages/IPython/kernel/zmq/serialize.py'>,\n",
        " 'IPython.kernel.zmq.session': <module 'IPython.kernel.zmq.session' from '/Users/konradhalas/dev/virtualenvs/import_import/lib/python3.3/site-packages/IPython/kernel/zmq/session.py'>,\n",
        " 'IPython.kernel.zmq.zmqshell': <module 'IPython.kernel.zmq.zmqshell' from '/Users/konradhalas/dev/virtualenvs/import_import/lib/python3.3/site-packages/IPython/kernel/zmq/zmqshell.py'>,\n",
        " 'IPython.lib': <module 'IPython.lib' from '/Users/konradhalas/dev/virtualenvs/import_import/lib/python3.3/site-packages/IPython/lib/__init__.py'>,\n",
        " 'IPython.lib.backgroundjobs': <module 'IPython.lib.backgroundjobs' from '/Users/konradhalas/dev/virtualenvs/import_import/lib/python3.3/site-packages/IPython/lib/backgroundjobs.py'>,\n",
        " 'IPython.lib.deepreload': <module 'IPython.lib.deepreload' from '/Users/konradhalas/dev/virtualenvs/import_import/lib/python3.3/site-packages/IPython/lib/deepreload.py'>,\n",
        " 'IPython.lib.display': <module 'IPython.lib.display' from '/Users/konradhalas/dev/virtualenvs/import_import/lib/python3.3/site-packages/IPython/lib/display.py'>,\n",
        " 'IPython.lib.inputhook': <module 'IPython.lib.inputhook' from '/Users/konradhalas/dev/virtualenvs/import_import/lib/python3.3/site-packages/IPython/lib/inputhook.py'>,\n",
        " 'IPython.lib.latextools': <module 'IPython.lib.latextools' from '/Users/konradhalas/dev/virtualenvs/import_import/lib/python3.3/site-packages/IPython/lib/latextools.py'>,\n",
        " 'IPython.lib.pretty': <module 'IPython.lib.pretty' from '/Users/konradhalas/dev/virtualenvs/import_import/lib/python3.3/site-packages/IPython/lib/pretty.py'>,\n",
        " 'IPython.lib.security': <module 'IPython.lib.security' from '/Users/konradhalas/dev/virtualenvs/import_import/lib/python3.3/site-packages/IPython/lib/security.py'>,\n",
        " 'IPython.terminal': <module 'IPython.terminal' from '/Users/konradhalas/dev/virtualenvs/import_import/lib/python3.3/site-packages/IPython/terminal/__init__.py'>,\n",
        " 'IPython.terminal.embed': <module 'IPython.terminal.embed' from '/Users/konradhalas/dev/virtualenvs/import_import/lib/python3.3/site-packages/IPython/terminal/embed.py'>,\n",
        " 'IPython.terminal.interactiveshell': <module 'IPython.terminal.interactiveshell' from '/Users/konradhalas/dev/virtualenvs/import_import/lib/python3.3/site-packages/IPython/terminal/interactiveshell.py'>,\n",
        " 'IPython.terminal.ipapp': <module 'IPython.terminal.ipapp' from '/Users/konradhalas/dev/virtualenvs/import_import/lib/python3.3/site-packages/IPython/terminal/ipapp.py'>,\n",
        " 'IPython.testing': <module 'IPython.testing' from '/Users/konradhalas/dev/virtualenvs/import_import/lib/python3.3/site-packages/IPython/testing/__init__.py'>,\n",
        " 'IPython.testing.skipdoctest': <module 'IPython.testing.skipdoctest' from '/Users/konradhalas/dev/virtualenvs/import_import/lib/python3.3/site-packages/IPython/testing/skipdoctest.py'>,\n",
        " 'IPython.utils': <module 'IPython.utils' from '/Users/konradhalas/dev/virtualenvs/import_import/lib/python3.3/site-packages/IPython/utils/__init__.py'>,\n",
        " 'IPython.utils.PyColorize': <module 'IPython.utils.PyColorize' from '/Users/konradhalas/dev/virtualenvs/import_import/lib/python3.3/site-packages/IPython/utils/PyColorize.py'>,\n",
        " 'IPython.utils._process_common': <module 'IPython.utils._process_common' from '/Users/konradhalas/dev/virtualenvs/import_import/lib/python3.3/site-packages/IPython/utils/_process_common.py'>,\n",
        " 'IPython.utils._process_posix': <module 'IPython.utils._process_posix' from '/Users/konradhalas/dev/virtualenvs/import_import/lib/python3.3/site-packages/IPython/utils/_process_posix.py'>,\n",
        " 'IPython.utils._sysinfo': <module 'IPython.utils._sysinfo' from '/Users/konradhalas/dev/virtualenvs/import_import/lib/python3.3/site-packages/IPython/utils/_sysinfo.py'>,\n",
        " 'IPython.utils._tokenize_py3': <module 'IPython.utils._tokenize_py3' from '/Users/konradhalas/dev/virtualenvs/import_import/lib/python3.3/site-packages/IPython/utils/_tokenize_py3.py'>,\n",
        " 'IPython.utils.codeutil': <module 'IPython.utils.codeutil' from '/Users/konradhalas/dev/virtualenvs/import_import/lib/python3.3/site-packages/IPython/utils/codeutil.py'>,\n",
        " 'IPython.utils.coloransi': <module 'IPython.utils.coloransi' from '/Users/konradhalas/dev/virtualenvs/import_import/lib/python3.3/site-packages/IPython/utils/coloransi.py'>,\n",
        " 'IPython.utils.contexts': <module 'IPython.utils.contexts' from '/Users/konradhalas/dev/virtualenvs/import_import/lib/python3.3/site-packages/IPython/utils/contexts.py'>,\n",
        " 'IPython.utils.data': <module 'IPython.utils.data' from '/Users/konradhalas/dev/virtualenvs/import_import/lib/python3.3/site-packages/IPython/utils/data.py'>,\n",
        " 'IPython.utils.decorators': <module 'IPython.utils.decorators' from '/Users/konradhalas/dev/virtualenvs/import_import/lib/python3.3/site-packages/IPython/utils/decorators.py'>,\n",
        " 'IPython.utils.dir2': <module 'IPython.utils.dir2' from '/Users/konradhalas/dev/virtualenvs/import_import/lib/python3.3/site-packages/IPython/utils/dir2.py'>,\n",
        " 'IPython.utils.encoding': <module 'IPython.utils.encoding' from '/Users/konradhalas/dev/virtualenvs/import_import/lib/python3.3/site-packages/IPython/utils/encoding.py'>,\n",
        " 'IPython.utils.frame': <module 'IPython.utils.frame' from '/Users/konradhalas/dev/virtualenvs/import_import/lib/python3.3/site-packages/IPython/utils/frame.py'>,\n",
        " 'IPython.utils.generics': <module 'IPython.utils.generics' from '/Users/konradhalas/dev/virtualenvs/import_import/lib/python3.3/site-packages/IPython/utils/generics.py'>,\n",
        " 'IPython.utils.importstring': <module 'IPython.utils.importstring' from '/Users/konradhalas/dev/virtualenvs/import_import/lib/python3.3/site-packages/IPython/utils/importstring.py'>,\n",
        " 'IPython.utils.io': <module 'IPython.utils.io' from '/Users/konradhalas/dev/virtualenvs/import_import/lib/python3.3/site-packages/IPython/utils/io.py'>,\n",
        " 'IPython.utils.ipstruct': <module 'IPython.utils.ipstruct' from '/Users/konradhalas/dev/virtualenvs/import_import/lib/python3.3/site-packages/IPython/utils/ipstruct.py'>,\n",
        " 'IPython.utils.jsonutil': <module 'IPython.utils.jsonutil' from '/Users/konradhalas/dev/virtualenvs/import_import/lib/python3.3/site-packages/IPython/utils/jsonutil.py'>,\n",
        " 'IPython.utils.localinterfaces': <module 'IPython.utils.localinterfaces' from '/Users/konradhalas/dev/virtualenvs/import_import/lib/python3.3/site-packages/IPython/utils/localinterfaces.py'>,\n",
        " 'IPython.utils.module_paths': <module 'IPython.utils.module_paths' from '/Users/konradhalas/dev/virtualenvs/import_import/lib/python3.3/site-packages/IPython/utils/module_paths.py'>,\n",
        " 'IPython.utils.nested_context': <module 'IPython.utils.nested_context' from '/Users/konradhalas/dev/virtualenvs/import_import/lib/python3.3/site-packages/IPython/utils/nested_context.py'>,\n",
        " 'IPython.utils.openpy': <module 'IPython.utils.openpy' from '/Users/konradhalas/dev/virtualenvs/import_import/lib/python3.3/site-packages/IPython/utils/openpy.py'>,\n",
        " 'IPython.utils.path': <module 'IPython.utils.path' from '/Users/konradhalas/dev/virtualenvs/import_import/lib/python3.3/site-packages/IPython/utils/path.py'>,\n",
        " 'IPython.utils.pickleshare': <module 'IPython.utils.pickleshare' from '/Users/konradhalas/dev/virtualenvs/import_import/lib/python3.3/site-packages/IPython/utils/pickleshare.py'>,\n",
        " 'IPython.utils.pickleutil': <module 'IPython.utils.pickleutil' from '/Users/konradhalas/dev/virtualenvs/import_import/lib/python3.3/site-packages/IPython/utils/pickleutil.py'>,\n",
        " 'IPython.utils.process': <module 'IPython.utils.process' from '/Users/konradhalas/dev/virtualenvs/import_import/lib/python3.3/site-packages/IPython/utils/process.py'>,\n",
        " 'IPython.utils.py3compat': <module 'IPython.utils.py3compat' from '/Users/konradhalas/dev/virtualenvs/import_import/lib/python3.3/site-packages/IPython/utils/py3compat.py'>,\n",
        " 'IPython.utils.rlineimpl': <module 'IPython.utils.rlineimpl' from '/Users/konradhalas/dev/virtualenvs/import_import/lib/python3.3/site-packages/IPython/utils/rlineimpl.py'>,\n",
        " 'IPython.utils.strdispatch': <module 'IPython.utils.strdispatch' from '/Users/konradhalas/dev/virtualenvs/import_import/lib/python3.3/site-packages/IPython/utils/strdispatch.py'>,\n",
        " 'IPython.utils.sysinfo': <module 'IPython.utils.sysinfo' from '/Users/konradhalas/dev/virtualenvs/import_import/lib/python3.3/site-packages/IPython/utils/sysinfo.py'>,\n",
        " 'IPython.utils.syspathcontext': <module 'IPython.utils.syspathcontext' from '/Users/konradhalas/dev/virtualenvs/import_import/lib/python3.3/site-packages/IPython/utils/syspathcontext.py'>,\n",
        " 'IPython.utils.terminal': <module 'IPython.utils.terminal' from '/Users/konradhalas/dev/virtualenvs/import_import/lib/python3.3/site-packages/IPython/utils/terminal.py'>,\n",
        " 'IPython.utils.text': <module 'IPython.utils.text' from '/Users/konradhalas/dev/virtualenvs/import_import/lib/python3.3/site-packages/IPython/utils/text.py'>,\n",
        " 'IPython.utils.timing': <module 'IPython.utils.timing' from '/Users/konradhalas/dev/virtualenvs/import_import/lib/python3.3/site-packages/IPython/utils/timing.py'>,\n",
        " 'IPython.utils.tokenize2': <module 'IPython.utils.tokenize2' from '/Users/konradhalas/dev/virtualenvs/import_import/lib/python3.3/site-packages/IPython/utils/tokenize2.py'>,\n",
        " 'IPython.utils.traitlets': <module 'IPython.utils.traitlets' from '/Users/konradhalas/dev/virtualenvs/import_import/lib/python3.3/site-packages/IPython/utils/traitlets.py'>,\n",
        " 'IPython.utils.ulinecache': <module 'IPython.utils.ulinecache' from '/Users/konradhalas/dev/virtualenvs/import_import/lib/python3.3/site-packages/IPython/utils/ulinecache.py'>,\n",
        " 'IPython.utils.version': <module 'IPython.utils.version' from '/Users/konradhalas/dev/virtualenvs/import_import/lib/python3.3/site-packages/IPython/utils/version.py'>,\n",
        " 'IPython.utils.warn': <module 'IPython.utils.warn' from '/Users/konradhalas/dev/virtualenvs/import_import/lib/python3.3/site-packages/IPython/utils/warn.py'>,\n",
        " 'IPython.utils.wildcard': <module 'IPython.utils.wildcard' from '/Users/konradhalas/dev/virtualenvs/import_import/lib/python3.3/site-packages/IPython/utils/wildcard.py'>,\n",
        " 'IPython.utils.zmqrelated': <module 'IPython.utils.zmqrelated' from '/Users/konradhalas/dev/virtualenvs/import_import/lib/python3.3/site-packages/IPython/utils/zmqrelated.py'>,\n",
        " '__future__': <module '__future__' from '/Users/konradhalas/dev/virtualenvs/import_import/lib/python3.3/__future__.py'>,\n",
        " '__main__': <module '__main__'>,\n",
        " '_ast': <module '_ast' (built-in)>,\n",
        " '_bisect': <module '_bisect' from '/Users/konradhalas/dev/virtualenvs/import_import/bin/../lib/python3.3/lib-dynload/_bisect.so'>,\n",
        " '_bz2': <module '_bz2' from '/Users/konradhalas/dev/virtualenvs/import_import/lib/python3.3/lib-dynload/_bz2.so'>,\n",
        " '_codecs': <module '_codecs' (built-in)>,\n",
        " '_collections': <module '_collections' (built-in)>,\n",
        " '_compat_pickle': <module '_compat_pickle' from '/usr/local/Cellar/python3/3.3.0/Frameworks/Python.framework/Versions/3.3/lib/python3.3/_compat_pickle.py'>,\n",
        " '_ctypes': <module '_ctypes' from '/Users/konradhalas/dev/virtualenvs/import_import/lib/python3.3/lib-dynload/_ctypes.so'>,\n",
        " '_curses': <module '_curses' from '/Users/konradhalas/dev/virtualenvs/import_import/lib/python3.3/lib-dynload/_curses.so'>,\n",
        " '_datetime': <module '_datetime' from '/Users/konradhalas/dev/virtualenvs/import_import/lib/python3.3/lib-dynload/_datetime.so'>,\n",
        " '_frozen_importlib': <module 'importlib._bootstrap' from '/Users/konradhalas/dev/virtualenvs/import_import/lib/python3.3/importlib/_bootstrap.py'>,\n",
        " '_functools': <module '_functools' (built-in)>,\n",
        " '_hashlib': <module '_hashlib' from '/Users/konradhalas/dev/virtualenvs/import_import/lib/python3.3/lib-dynload/_hashlib.so'>,\n",
        " '_heapq': <module '_heapq' from '/Users/konradhalas/dev/virtualenvs/import_import/bin/../lib/python3.3/lib-dynload/_heapq.so'>,\n",
        " '_imp': <module '_imp' (built-in)>,\n",
        " '_io': <module 'io' (built-in)>,\n",
        " '_json': <module '_json' from '/Users/konradhalas/dev/virtualenvs/import_import/lib/python3.3/lib-dynload/_json.so'>,\n",
        " '_locale': <module '_locale' (built-in)>,\n",
        " '_lsprof': <module '_lsprof' from '/Users/konradhalas/dev/virtualenvs/import_import/lib/python3.3/lib-dynload/_lsprof.so'>,\n",
        " '_multiprocessing': <module '_multiprocessing' from '/Users/konradhalas/dev/virtualenvs/import_import/lib/python3.3/lib-dynload/_multiprocessing.so'>,\n",
        " '_osx_support': <module '_osx_support' from '/usr/local/Cellar/python3/3.3.0/Frameworks/Python.framework/Versions/3.3/lib/python3.3/_osx_support.py'>,\n",
        " '_pickle': <module '_pickle' from '/Users/konradhalas/dev/virtualenvs/import_import/lib/python3.3/lib-dynload/_pickle.so'>,\n",
        " '_posixsubprocess': <module '_posixsubprocess' from '/Users/konradhalas/dev/virtualenvs/import_import/lib/python3.3/lib-dynload/_posixsubprocess.so'>,\n",
        " '_random': <module '_random' from '/Users/konradhalas/dev/virtualenvs/import_import/lib/python3.3/lib-dynload/_random.so'>,\n",
        " '_socket': <module '_socket' from '/Users/konradhalas/dev/virtualenvs/import_import/lib/python3.3/lib-dynload/_socket.so'>,\n",
        " '_sqlite3': <module '_sqlite3' from '/Users/konradhalas/dev/virtualenvs/import_import/lib/python3.3/lib-dynload/_sqlite3.so'>,\n",
        " '_sre': <module '_sre' (built-in)>,\n",
        " '_string': <module '_string' (built-in)>,\n",
        " '_strptime': <module '_strptime' from '/usr/local/Cellar/python3/3.3.0/Frameworks/Python.framework/Versions/3.3/lib/python3.3/_strptime.py'>,\n",
        " '_struct': <module '_struct' from '/Users/konradhalas/dev/virtualenvs/import_import/lib/python3.3/lib-dynload/_struct.so'>,\n",
        " '_thread': <module '_thread' (built-in)>,\n",
        " '_virtualenv_distutils': <module '_virtualenv_distutils' from '/usr/local/Cellar/python3/3.3.0/Frameworks/Python.framework/Versions/3.3/lib/python3.3/distutils/__init__.py'>,\n",
        " '_warnings': <module '_warnings' (built-in)>,\n",
        " '_weakref': <module '_weakref' (built-in)>,\n",
        " '_weakrefset': <module '_weakrefset' from '/Users/konradhalas/dev/virtualenvs/import_import/bin/../lib/python3.3/_weakrefset.py'>,\n",
        " 'abc': <module 'abc' from '/Users/konradhalas/dev/virtualenvs/import_import/bin/../lib/python3.3/abc.py'>,\n",
        " 'argparse': <module 'argparse' from '/usr/local/Cellar/python3/3.3.0/Frameworks/Python.framework/Versions/3.3/lib/python3.3/argparse.py'>,\n",
        " 'array': <module 'array' from '/Users/konradhalas/dev/virtualenvs/import_import/lib/python3.3/lib-dynload/array.so'>,\n",
        " 'ast': <module 'ast' from '/usr/local/Cellar/python3/3.3.0/Frameworks/Python.framework/Versions/3.3/lib/python3.3/ast.py'>,\n",
        " 'atexit': <module 'atexit' from '/Users/konradhalas/dev/virtualenvs/import_import/lib/python3.3/lib-dynload/atexit.so'>,\n",
        " 'base64': <module 'base64' from '/Users/konradhalas/dev/virtualenvs/import_import/lib/python3.3/base64.py'>,\n",
        " 'bdb': <module 'bdb' from '/usr/local/Cellar/python3/3.3.0/Frameworks/Python.framework/Versions/3.3/lib/python3.3/bdb.py'>,\n",
        " 'binascii': <module 'binascii' from '/Users/konradhalas/dev/virtualenvs/import_import/lib/python3.3/lib-dynload/binascii.so'>,\n",
        " 'bisect': <module 'bisect' from '/Users/konradhalas/dev/virtualenvs/import_import/bin/../lib/python3.3/bisect.py'>,\n",
        " 'builtins': <module 'builtins'>,\n",
        " 'bz2': <module 'bz2' from '/usr/local/Cellar/python3/3.3.0/Frameworks/Python.framework/Versions/3.3/lib/python3.3/bz2.py'>,\n",
        " 'cProfile': <module 'cProfile' from '/usr/local/Cellar/python3/3.3.0/Frameworks/Python.framework/Versions/3.3/lib/python3.3/cProfile.py'>,\n",
        " 'calendar': <module 'calendar' from '/usr/local/Cellar/python3/3.3.0/Frameworks/Python.framework/Versions/3.3/lib/python3.3/calendar.py'>,\n",
        " 'cmd': <module 'cmd' from '/usr/local/Cellar/python3/3.3.0/Frameworks/Python.framework/Versions/3.3/lib/python3.3/cmd.py'>,\n",
        " 'code': <module 'code' from '/usr/local/Cellar/python3/3.3.0/Frameworks/Python.framework/Versions/3.3/lib/python3.3/code.py'>,\n",
        " 'codecs': <module 'codecs' from '/Users/konradhalas/dev/virtualenvs/import_import/bin/../lib/python3.3/codecs.py'>,\n",
        " 'codeop': <module 'codeop' from '/usr/local/Cellar/python3/3.3.0/Frameworks/Python.framework/Versions/3.3/lib/python3.3/codeop.py'>,\n",
        " 'collections': <module 'collections' from '/Users/konradhalas/dev/virtualenvs/import_import/bin/../lib/python3.3/collections/__init__.py'>,\n",
        " 'collections.abc': <module 'collections.abc' from '/Users/konradhalas/dev/virtualenvs/import_import/bin/../lib/python3.3/collections/abc.py'>,\n",
        " 'concurrent': <module 'concurrent' from '/usr/local/Cellar/python3/3.3.0/Frameworks/Python.framework/Versions/3.3/lib/python3.3/concurrent/__init__.py'>,\n",
        " 'concurrent.futures': <module 'concurrent.futures' from '/usr/local/Cellar/python3/3.3.0/Frameworks/Python.framework/Versions/3.3/lib/python3.3/concurrent/futures/__init__.py'>,\n",
        " 'concurrent.futures._base': <module 'concurrent.futures._base' from '/usr/local/Cellar/python3/3.3.0/Frameworks/Python.framework/Versions/3.3/lib/python3.3/concurrent/futures/_base.py'>,\n",
        " 'concurrent.futures.process': <module 'concurrent.futures.process' from '/usr/local/Cellar/python3/3.3.0/Frameworks/Python.framework/Versions/3.3/lib/python3.3/concurrent/futures/process.py'>,\n",
        " 'concurrent.futures.thread': <module 'concurrent.futures.thread' from '/usr/local/Cellar/python3/3.3.0/Frameworks/Python.framework/Versions/3.3/lib/python3.3/concurrent/futures/thread.py'>,\n",
        " 'contextlib': <module 'contextlib' from '/usr/local/Cellar/python3/3.3.0/Frameworks/Python.framework/Versions/3.3/lib/python3.3/contextlib.py'>,\n",
        " 'copy': <module 'copy' from '/Users/konradhalas/dev/virtualenvs/import_import/lib/python3.3/copy.py'>,\n",
        " 'copyreg': <module 'copyreg' from '/Users/konradhalas/dev/virtualenvs/import_import/bin/../lib/python3.3/copyreg.py'>,\n",
        " 'ctypes': <module 'ctypes' from '/usr/local/Cellar/python3/3.3.0/Frameworks/Python.framework/Versions/3.3/lib/python3.3/ctypes/__init__.py'>,\n",
        " 'ctypes._endian': <module 'ctypes._endian' from '/usr/local/Cellar/python3/3.3.0/Frameworks/Python.framework/Versions/3.3/lib/python3.3/ctypes/_endian.py'>,\n",
        " 'ctypes.macholib': <module 'ctypes.macholib' from '/usr/local/Cellar/python3/3.3.0/Frameworks/Python.framework/Versions/3.3/lib/python3.3/ctypes/macholib/__init__.py'>,\n",
        " 'ctypes.macholib.dyld': <module 'ctypes.macholib.dyld' from '/usr/local/Cellar/python3/3.3.0/Frameworks/Python.framework/Versions/3.3/lib/python3.3/ctypes/macholib/dyld.py'>,\n",
        " 'ctypes.macholib.dylib': <module 'ctypes.macholib.dylib' from '/usr/local/Cellar/python3/3.3.0/Frameworks/Python.framework/Versions/3.3/lib/python3.3/ctypes/macholib/dylib.py'>,\n",
        " 'ctypes.macholib.framework': <module 'ctypes.macholib.framework' from '/usr/local/Cellar/python3/3.3.0/Frameworks/Python.framework/Versions/3.3/lib/python3.3/ctypes/macholib/framework.py'>,\n",
        " 'ctypes.util': <module 'ctypes.util' from '/usr/local/Cellar/python3/3.3.0/Frameworks/Python.framework/Versions/3.3/lib/python3.3/ctypes/util.py'>,\n",
        " 'curses': <module 'curses' from '/usr/local/Cellar/python3/3.3.0/Frameworks/Python.framework/Versions/3.3/lib/python3.3/curses/__init__.py'>,\n",
        " 'datetime': <module 'datetime' from '/usr/local/Cellar/python3/3.3.0/Frameworks/Python.framework/Versions/3.3/lib/python3.3/datetime.py'>,\n",
        " 'dis': <module 'dis' from '/usr/local/Cellar/python3/3.3.0/Frameworks/Python.framework/Versions/3.3/lib/python3.3/dis.py'>,\n",
        " 'distutils': <module 'distutils' from '/Users/konradhalas/dev/virtualenvs/import_import/lib/python3.3/distutils/__init__.py'>,\n",
        " 'distutils.debug': <module 'distutils.debug' from '/usr/local/Cellar/python3/3.3.0/Frameworks/Python.framework/Versions/3.3/lib/python3.3/distutils/debug.py'>,\n",
        " 'distutils.dep_util': <module 'distutils.dep_util' from '/usr/local/Cellar/python3/3.3.0/Frameworks/Python.framework/Versions/3.3/lib/python3.3/distutils/dep_util.py'>,\n",
        " 'distutils.dist': <module 'distutils.dist' from '/usr/local/Cellar/python3/3.3.0/Frameworks/Python.framework/Versions/3.3/lib/python3.3/distutils/dist.py'>,\n",
        " 'distutils.errors': <module 'distutils.errors' from '/usr/local/Cellar/python3/3.3.0/Frameworks/Python.framework/Versions/3.3/lib/python3.3/distutils/errors.py'>,\n",
        " 'distutils.fancy_getopt': <module 'distutils.fancy_getopt' from '/usr/local/Cellar/python3/3.3.0/Frameworks/Python.framework/Versions/3.3/lib/python3.3/distutils/fancy_getopt.py'>,\n",
        " 'distutils.log': <module 'distutils.log' from '/usr/local/Cellar/python3/3.3.0/Frameworks/Python.framework/Versions/3.3/lib/python3.3/distutils/log.py'>,\n",
        " 'distutils.spawn': <module 'distutils.spawn' from '/usr/local/Cellar/python3/3.3.0/Frameworks/Python.framework/Versions/3.3/lib/python3.3/distutils/spawn.py'>,\n",
        " 'distutils.sysconfig': <module 'distutils.sysconfig' from '/usr/local/Cellar/python3/3.3.0/Frameworks/Python.framework/Versions/3.3/lib/python3.3/distutils/sysconfig.py'>,\n",
        " 'distutils.text_file': <module 'distutils.text_file' from '/usr/local/Cellar/python3/3.3.0/Frameworks/Python.framework/Versions/3.3/lib/python3.3/distutils/text_file.py'>,\n",
        " 'distutils.util': <module 'distutils.util' from '/usr/local/Cellar/python3/3.3.0/Frameworks/Python.framework/Versions/3.3/lib/python3.3/distutils/util.py'>,\n",
        " 'distutils.version': <module 'distutils.version' from '/usr/local/Cellar/python3/3.3.0/Frameworks/Python.framework/Versions/3.3/lib/python3.3/distutils/version.py'>,\n",
        " 'encodings': <module 'encodings' from '/Users/konradhalas/dev/virtualenvs/import_import/bin/../lib/python3.3/encodings/__init__.py'>,\n",
        " 'encodings.aliases': <module 'encodings.aliases' from '/Users/konradhalas/dev/virtualenvs/import_import/bin/../lib/python3.3/encodings/aliases.py'>,\n",
        " 'encodings.idna': <module 'encodings.idna' from '/Users/konradhalas/dev/virtualenvs/import_import/bin/../lib/python3.3/encodings/idna.py'>,\n",
        " 'encodings.latin_1': <module 'encodings.latin_1' from '/Users/konradhalas/dev/virtualenvs/import_import/bin/../lib/python3.3/encodings/latin_1.py'>,\n",
        " 'encodings.utf_8': <module 'encodings.utf_8' from '/Users/konradhalas/dev/virtualenvs/import_import/bin/../lib/python3.3/encodings/utf_8.py'>,\n",
        " 'errno': <module 'errno' (built-in)>,\n",
        " 'fcntl': <module 'fcntl' from '/Users/konradhalas/dev/virtualenvs/import_import/lib/python3.3/lib-dynload/fcntl.so'>,\n",
        " 'fnmatch': <module 'fnmatch' from '/Users/konradhalas/dev/virtualenvs/import_import/lib/python3.3/fnmatch.py'>,\n",
        " 'functools': <module 'functools' from '/Users/konradhalas/dev/virtualenvs/import_import/bin/../lib/python3.3/functools.py'>,\n",
        " 'gc': <module 'gc' (built-in)>,\n",
        " 'genericpath': <module 'genericpath' from '/Users/konradhalas/dev/virtualenvs/import_import/bin/../lib/python3.3/genericpath.py'>,\n",
        " 'getopt': <module 'getopt' from '/usr/local/Cellar/python3/3.3.0/Frameworks/Python.framework/Versions/3.3/lib/python3.3/getopt.py'>,\n",
        " 'getpass': <module 'getpass' from '/usr/local/Cellar/python3/3.3.0/Frameworks/Python.framework/Versions/3.3/lib/python3.3/getpass.py'>,\n",
        " 'gettext': <module 'gettext' from '/usr/local/Cellar/python3/3.3.0/Frameworks/Python.framework/Versions/3.3/lib/python3.3/gettext.py'>,\n",
        " 'glob': <module 'glob' from '/usr/local/Cellar/python3/3.3.0/Frameworks/Python.framework/Versions/3.3/lib/python3.3/glob.py'>,\n",
        " 'grp': <module 'grp' from '/Users/konradhalas/dev/virtualenvs/import_import/lib/python3.3/lib-dynload/grp.so'>,\n",
        " 'hashlib': <module 'hashlib' from '/Users/konradhalas/dev/virtualenvs/import_import/lib/python3.3/hashlib.py'>,\n",
        " 'heapq': <module 'heapq' from '/Users/konradhalas/dev/virtualenvs/import_import/bin/../lib/python3.3/heapq.py'>,\n",
        " 'hmac': <module 'hmac' from '/Users/konradhalas/dev/virtualenvs/import_import/lib/python3.3/hmac.py'>,\n",
        " 'html': <module 'html' from '/usr/local/Cellar/python3/3.3.0/Frameworks/Python.framework/Versions/3.3/lib/python3.3/html/__init__.py'>,\n",
        " 'html.entities': <module 'html.entities' from '/usr/local/Cellar/python3/3.3.0/Frameworks/Python.framework/Versions/3.3/lib/python3.3/html/entities.py'>,\n",
        " 'imp': <module 'imp' from '/Users/konradhalas/dev/virtualenvs/import_import/lib/python3.3/imp.py'>,\n",
        " 'importlib': <module 'importlib' from '/Users/konradhalas/dev/virtualenvs/import_import/lib/python3.3/importlib/__init__.py'>,\n",
        " 'importlib._bootstrap': <module 'importlib._bootstrap' from '/Users/konradhalas/dev/virtualenvs/import_import/lib/python3.3/importlib/_bootstrap.py'>,\n",
        " 'importlib.machinery': <module 'importlib.machinery' from '/Users/konradhalas/dev/virtualenvs/import_import/lib/python3.3/importlib/machinery.py'>,\n",
        " 'inspect': <module 'inspect' from '/usr/local/Cellar/python3/3.3.0/Frameworks/Python.framework/Versions/3.3/lib/python3.3/inspect.py'>,\n",
        " 'io': <module 'io' from '/Users/konradhalas/dev/virtualenvs/import_import/bin/../lib/python3.3/io.py'>,\n",
        " 'itertools': <module 'itertools' (built-in)>,\n",
        " 'json': <module 'json' from '/usr/local/Cellar/python3/3.3.0/Frameworks/Python.framework/Versions/3.3/lib/python3.3/json/__init__.py'>,\n",
        " 'json.decoder': <module 'json.decoder' from '/usr/local/Cellar/python3/3.3.0/Frameworks/Python.framework/Versions/3.3/lib/python3.3/json/decoder.py'>,\n",
        " 'json.encoder': <module 'json.encoder' from '/usr/local/Cellar/python3/3.3.0/Frameworks/Python.framework/Versions/3.3/lib/python3.3/json/encoder.py'>,\n",
        " 'json.scanner': <module 'json.scanner' from '/usr/local/Cellar/python3/3.3.0/Frameworks/Python.framework/Versions/3.3/lib/python3.3/json/scanner.py'>,\n",
        " 'keyword': <module 'keyword' from '/Users/konradhalas/dev/virtualenvs/import_import/bin/../lib/python3.3/keyword.py'>,\n",
        " 'linecache': <module 'linecache' from '/Users/konradhalas/dev/virtualenvs/import_import/lib/python3.3/linecache.py'>,\n",
        " 'locale': <module 'locale' from '/Users/konradhalas/dev/virtualenvs/import_import/bin/../lib/python3.3/locale.py'>,\n",
        " 'logging': <module 'logging' from '/usr/local/Cellar/python3/3.3.0/Frameworks/Python.framework/Versions/3.3/lib/python3.3/logging/__init__.py'>,\n",
        " 'logging.handlers': <module 'logging.handlers' from '/usr/local/Cellar/python3/3.3.0/Frameworks/Python.framework/Versions/3.3/lib/python3.3/logging/handlers.py'>,\n",
        " 'marshal': <module 'marshal' (built-in)>,\n",
        " 'math': <module 'math' from '/Users/konradhalas/dev/virtualenvs/import_import/lib/python3.3/lib-dynload/math.so'>,\n",
        " 'multiprocessing': <module 'multiprocessing' from '/usr/local/Cellar/python3/3.3.0/Frameworks/Python.framework/Versions/3.3/lib/python3.3/multiprocessing/__init__.py'>,\n",
        " 'multiprocessing.connection': <module 'multiprocessing.connection' from '/usr/local/Cellar/python3/3.3.0/Frameworks/Python.framework/Versions/3.3/lib/python3.3/multiprocessing/connection.py'>,\n",
        " 'multiprocessing.forking': <module 'multiprocessing.forking' from '/usr/local/Cellar/python3/3.3.0/Frameworks/Python.framework/Versions/3.3/lib/python3.3/multiprocessing/forking.py'>,\n",
        " 'multiprocessing.process': <module 'multiprocessing.process' from '/usr/local/Cellar/python3/3.3.0/Frameworks/Python.framework/Versions/3.3/lib/python3.3/multiprocessing/process.py'>,\n",
        " 'multiprocessing.queues': <module 'multiprocessing.queues' from '/usr/local/Cellar/python3/3.3.0/Frameworks/Python.framework/Versions/3.3/lib/python3.3/multiprocessing/queues.py'>,\n",
        " 'multiprocessing.reduction': <module 'multiprocessing.reduction' from '/usr/local/Cellar/python3/3.3.0/Frameworks/Python.framework/Versions/3.3/lib/python3.3/multiprocessing/reduction.py'>,\n",
        " 'multiprocessing.synchronize': <module 'multiprocessing.synchronize' from '/usr/local/Cellar/python3/3.3.0/Frameworks/Python.framework/Versions/3.3/lib/python3.3/multiprocessing/synchronize.py'>,\n",
        " 'multiprocessing.util': <module 'multiprocessing.util' from '/usr/local/Cellar/python3/3.3.0/Frameworks/Python.framework/Versions/3.3/lib/python3.3/multiprocessing/util.py'>,\n",
        " 'numbers': <module 'numbers' from '/usr/local/Cellar/python3/3.3.0/Frameworks/Python.framework/Versions/3.3/lib/python3.3/numbers.py'>,\n",
        " 'opcode': <module 'opcode' from '/usr/local/Cellar/python3/3.3.0/Frameworks/Python.framework/Versions/3.3/lib/python3.3/opcode.py'>,\n",
        " 'operator': <module 'operator' (built-in)>,\n",
        " 'os': <module 'os' from '/Users/konradhalas/dev/virtualenvs/import_import/bin/../lib/python3.3/os.py'>,\n",
        " 'os.path': <module 'posixpath' from '/Users/konradhalas/dev/virtualenvs/import_import/bin/../lib/python3.3/posixpath.py'>,\n",
        " 'pdb': <module 'pdb' from '/usr/local/Cellar/python3/3.3.0/Frameworks/Python.framework/Versions/3.3/lib/python3.3/pdb.py'>,\n",
        " 'pickle': <module 'pickle' from '/usr/local/Cellar/python3/3.3.0/Frameworks/Python.framework/Versions/3.3/lib/python3.3/pickle.py'>,\n",
        " 'pkgutil': <module 'pkgutil' from '/usr/local/Cellar/python3/3.3.0/Frameworks/Python.framework/Versions/3.3/lib/python3.3/pkgutil.py'>,\n",
        " 'platform': <module 'platform' from '/usr/local/Cellar/python3/3.3.0/Frameworks/Python.framework/Versions/3.3/lib/python3.3/platform.py'>,\n",
        " 'posix': <module 'posix' (built-in)>,\n",
        " 'posixpath': <module 'posixpath' from '/Users/konradhalas/dev/virtualenvs/import_import/bin/../lib/python3.3/posixpath.py'>,\n",
        " 'pprint': <module 'pprint' from '/usr/local/Cellar/python3/3.3.0/Frameworks/Python.framework/Versions/3.3/lib/python3.3/pprint.py'>,\n",
        " 'pstats': <module 'pstats' from '/usr/local/Cellar/python3/3.3.0/Frameworks/Python.framework/Versions/3.3/lib/python3.3/pstats.py'>,\n",
        " 'pty': <module 'pty' from '/usr/local/Cellar/python3/3.3.0/Frameworks/Python.framework/Versions/3.3/lib/python3.3/pty.py'>,\n",
        " 'pwd': <module 'pwd' (built-in)>,\n",
        " 'pydoc': <module 'pydoc' from '/usr/local/Cellar/python3/3.3.0/Frameworks/Python.framework/Versions/3.3/lib/python3.3/pydoc.py'>,\n",
        " 'queue': <module 'queue' from '/usr/local/Cellar/python3/3.3.0/Frameworks/Python.framework/Versions/3.3/lib/python3.3/queue.py'>,\n",
        " 'random': <module 'random' from '/Users/konradhalas/dev/virtualenvs/import_import/lib/python3.3/random.py'>,\n",
        " 're': <module 're' from '/Users/konradhalas/dev/virtualenvs/import_import/bin/../lib/python3.3/re.py'>,\n",
        " 'readline': <module 'readline' from '/Users/konradhalas/dev/virtualenvs/import_import/lib/python3.3/lib-dynload/readline.so'>,\n",
        " 'reprlib': <module 'reprlib' from '/Users/konradhalas/dev/virtualenvs/import_import/bin/../lib/python3.3/reprlib.py'>,\n",
        " 'resource': <module 'resource' from '/Users/konradhalas/dev/virtualenvs/import_import/lib/python3.3/lib-dynload/resource.so'>,\n",
        " 'runpy': <module 'runpy' from '/usr/local/Cellar/python3/3.3.0/Frameworks/Python.framework/Versions/3.3/lib/python3.3/runpy.py'>,\n",
        " 'select': <module 'select' from '/Users/konradhalas/dev/virtualenvs/import_import/lib/python3.3/lib-dynload/select.so'>,\n",
        " 'shlex': <module 'shlex' from '/usr/local/Cellar/python3/3.3.0/Frameworks/Python.framework/Versions/3.3/lib/python3.3/shlex.py'>,\n",
        " 'shutil': <module 'shutil' from '/Users/konradhalas/dev/virtualenvs/import_import/lib/python3.3/shutil.py'>,\n",
        " 'signal': <module 'signal'>,\n",
        " 'site': <module 'site' from '/Users/konradhalas/dev/virtualenvs/import_import/bin/../lib/python3.3/site.py'>,\n",
        " 'socket': <module 'socket' from '/usr/local/Cellar/python3/3.3.0/Frameworks/Python.framework/Versions/3.3/lib/python3.3/socket.py'>,\n",
        " 'sqlite3': <module 'sqlite3' from '/usr/local/Cellar/python3/3.3.0/Frameworks/Python.framework/Versions/3.3/lib/python3.3/sqlite3/__init__.py'>,\n",
        " 'sqlite3.dbapi2': <module 'sqlite3.dbapi2' from '/usr/local/Cellar/python3/3.3.0/Frameworks/Python.framework/Versions/3.3/lib/python3.3/sqlite3/dbapi2.py'>,\n",
        " 'sre_compile': <module 'sre_compile' from '/Users/konradhalas/dev/virtualenvs/import_import/bin/../lib/python3.3/sre_compile.py'>,\n",
        " 'sre_constants': <module 'sre_constants' from '/Users/konradhalas/dev/virtualenvs/import_import/bin/../lib/python3.3/sre_constants.py'>,\n",
        " 'sre_parse': <module 'sre_parse' from '/Users/konradhalas/dev/virtualenvs/import_import/bin/../lib/python3.3/sre_parse.py'>,\n",
        " 'stat': <module 'stat' from '/Users/konradhalas/dev/virtualenvs/import_import/bin/../lib/python3.3/stat.py'>,\n",
        " 'storemagic': <module 'storemagic' from '/Users/konradhalas/dev/virtualenvs/import_import/lib/python3.3/site-packages/IPython/extensions/storemagic.py'>,\n",
        " 'string': <module 'string' from '/usr/local/Cellar/python3/3.3.0/Frameworks/Python.framework/Versions/3.3/lib/python3.3/string.py'>,\n",
        " 'stringprep': <module 'stringprep' from '/usr/local/Cellar/python3/3.3.0/Frameworks/Python.framework/Versions/3.3/lib/python3.3/stringprep.py'>,\n",
        " 'struct': <module 'struct' from '/Users/konradhalas/dev/virtualenvs/import_import/lib/python3.3/struct.py'>,\n",
        " 'subprocess': <module 'subprocess' from '/usr/local/Cellar/python3/3.3.0/Frameworks/Python.framework/Versions/3.3/lib/python3.3/subprocess.py'>,\n",
        " 'sys': <module 'sys' (built-in)>,\n",
        " 'tarfile': <module 'tarfile' from '/Users/konradhalas/dev/virtualenvs/import_import/lib/python3.3/tarfile.py'>,\n",
        " 'tempfile': <module 'tempfile' from '/Users/konradhalas/dev/virtualenvs/import_import/lib/python3.3/tempfile.py'>,\n",
        " 'termios': <module 'termios' from '/Users/konradhalas/dev/virtualenvs/import_import/lib/python3.3/lib-dynload/termios.so'>,\n",
        " 'textwrap': <module 'textwrap' from '/usr/local/Cellar/python3/3.3.0/Frameworks/Python.framework/Versions/3.3/lib/python3.3/textwrap.py'>,\n",
        " 'threading': <module 'threading' from '/usr/local/Cellar/python3/3.3.0/Frameworks/Python.framework/Versions/3.3/lib/python3.3/threading.py'>,\n",
        " 'time': <module 'time' from '/Users/konradhalas/dev/virtualenvs/import_import/lib/python3.3/lib-dynload/time.so'>,\n",
        " 'token': <module 'token' from '/Users/konradhalas/dev/virtualenvs/import_import/lib/python3.3/token.py'>,\n",
        " 'tokenize': <module 'tokenize' from '/Users/konradhalas/dev/virtualenvs/import_import/lib/python3.3/tokenize.py'>,\n",
        " 'tornado': <module 'tornado' from '/Users/konradhalas/dev/virtualenvs/import_import/lib/python3.3/site-packages/tornado/__init__.py'>,\n",
        " 'tornado.concurrent': <module 'tornado.concurrent' from '/Users/konradhalas/dev/virtualenvs/import_import/lib/python3.3/site-packages/tornado/concurrent.py'>,\n",
        " 'tornado.escape': <module 'tornado.escape' from '/Users/konradhalas/dev/virtualenvs/import_import/lib/python3.3/site-packages/tornado/escape.py'>,\n",
        " 'tornado.ioloop': <module 'tornado.ioloop' from '/Users/konradhalas/dev/virtualenvs/import_import/lib/python3.3/site-packages/tornado/ioloop.py'>,\n",
        " 'tornado.log': <module 'tornado.log' from '/Users/konradhalas/dev/virtualenvs/import_import/lib/python3.3/site-packages/tornado/log.py'>,\n",
        " 'tornado.platform': <module 'tornado.platform' from '/Users/konradhalas/dev/virtualenvs/import_import/lib/python3.3/site-packages/tornado/platform/__init__.py'>,\n",
        " 'tornado.platform.auto': <module 'tornado.platform.auto' from '/Users/konradhalas/dev/virtualenvs/import_import/lib/python3.3/site-packages/tornado/platform/auto.py'>,\n",
        " 'tornado.platform.interface': <module 'tornado.platform.interface' from '/Users/konradhalas/dev/virtualenvs/import_import/lib/python3.3/site-packages/tornado/platform/interface.py'>,\n",
        " 'tornado.platform.posix': <module 'tornado.platform.posix' from '/Users/konradhalas/dev/virtualenvs/import_import/lib/python3.3/site-packages/tornado/platform/posix.py'>,\n",
        " 'tornado.stack_context': <module 'tornado.stack_context' from '/Users/konradhalas/dev/virtualenvs/import_import/lib/python3.3/site-packages/tornado/stack_context.py'>,\n",
        " 'tornado.util': <module 'tornado.util' from '/Users/konradhalas/dev/virtualenvs/import_import/lib/python3.3/site-packages/tornado/util.py'>,\n",
        " 'traceback': <module 'traceback' from '/usr/local/Cellar/python3/3.3.0/Frameworks/Python.framework/Versions/3.3/lib/python3.3/traceback.py'>,\n",
        " 'tty': <module 'tty' from '/usr/local/Cellar/python3/3.3.0/Frameworks/Python.framework/Versions/3.3/lib/python3.3/tty.py'>,\n",
        " 'types': <module 'types' from '/Users/konradhalas/dev/virtualenvs/import_import/lib/python3.3/types.py'>,\n",
        " 'unicodedata': <module 'unicodedata' from '/Users/konradhalas/dev/virtualenvs/import_import/lib/python3.3/lib-dynload/unicodedata.so'>,\n",
        " 'urllib': <module 'urllib' from '/usr/local/Cellar/python3/3.3.0/Frameworks/Python.framework/Versions/3.3/lib/python3.3/urllib/__init__.py'>,\n",
        " 'urllib.parse': <module 'urllib.parse' from '/usr/local/Cellar/python3/3.3.0/Frameworks/Python.framework/Versions/3.3/lib/python3.3/urllib/parse.py'>,\n",
        " 'uuid': <module 'uuid' from '/usr/local/Cellar/python3/3.3.0/Frameworks/Python.framework/Versions/3.3/lib/python3.3/uuid.py'>,\n",
        " 'warnings': <module 'warnings' from '/Users/konradhalas/dev/virtualenvs/import_import/lib/python3.3/warnings.py'>,\n",
        " 'weakref': <module 'weakref' from '/Users/konradhalas/dev/virtualenvs/import_import/bin/../lib/python3.3/weakref.py'>,\n",
        " 'zipimport': <module 'zipimport' (built-in)>,\n",
        " 'zlib': <module 'zlib' from '/Users/konradhalas/dev/virtualenvs/import_import/lib/python3.3/lib-dynload/zlib.so'>,\n",
        " 'zmq': <module 'zmq' from '/Users/konradhalas/dev/virtualenvs/import_import/lib/python3.3/site-packages/zmq/__init__.py'>,\n",
        " 'zmq.core': <module 'zmq.core' from '/Users/konradhalas/dev/virtualenvs/import_import/lib/python3.3/site-packages/zmq/core/__init__.py'>,\n",
        " 'zmq.core._device': <module 'zmq.core._device' from '/Users/konradhalas/dev/virtualenvs/import_import/lib/python3.3/site-packages/zmq/core/_device.so'>,\n",
        " 'zmq.core._poll': <module 'zmq.core._poll' from '/Users/konradhalas/dev/virtualenvs/import_import/lib/python3.3/site-packages/zmq/core/_poll.so'>,\n",
        " 'zmq.core._version': <module 'zmq.core._version' from '/Users/konradhalas/dev/virtualenvs/import_import/lib/python3.3/site-packages/zmq/core/_version.so'>,\n",
        " 'zmq.core.constants': <module 'zmq.core.constants' from '/Users/konradhalas/dev/virtualenvs/import_import/lib/python3.3/site-packages/zmq/core/constants.so'>,\n",
        " 'zmq.core.context': <module 'zmq.core.context' from '/Users/konradhalas/dev/virtualenvs/import_import/lib/python3.3/site-packages/zmq/core/context.so'>,\n",
        " 'zmq.core.error': <module 'zmq.core.error' from '/Users/konradhalas/dev/virtualenvs/import_import/lib/python3.3/site-packages/zmq/core/error.so'>,\n",
        " 'zmq.core.message': <module 'zmq.core.message' from '/Users/konradhalas/dev/virtualenvs/import_import/lib/python3.3/site-packages/zmq/core/message.so'>,\n",
        " 'zmq.core.socket': <module 'zmq.core.socket' from '/Users/konradhalas/dev/virtualenvs/import_import/lib/python3.3/site-packages/zmq/core/socket.so'>,\n",
        " 'zmq.core.stopwatch': <module 'zmq.core.stopwatch' from '/Users/konradhalas/dev/virtualenvs/import_import/lib/python3.3/site-packages/zmq/core/stopwatch.so'>,\n",
        " 'zmq.devices': <module 'zmq.devices' from '/Users/konradhalas/dev/virtualenvs/import_import/lib/python3.3/site-packages/zmq/devices/__init__.py'>,\n",
        " 'zmq.devices.basedevice': <module 'zmq.devices.basedevice' from '/Users/konradhalas/dev/virtualenvs/import_import/lib/python3.3/site-packages/zmq/devices/basedevice.py'>,\n",
        " 'zmq.devices.monitoredqueue': <module 'zmq.devices.monitoredqueue' from '/Users/konradhalas/dev/virtualenvs/import_import/lib/python3.3/site-packages/zmq/devices/monitoredqueue.so'>,\n",
        " 'zmq.devices.monitoredqueuedevice': <module 'zmq.devices.monitoredqueuedevice' from '/Users/konradhalas/dev/virtualenvs/import_import/lib/python3.3/site-packages/zmq/devices/monitoredqueuedevice.py'>,\n",
        " 'zmq.devices.proxydevice': <module 'zmq.devices.proxydevice' from '/Users/konradhalas/dev/virtualenvs/import_import/lib/python3.3/site-packages/zmq/devices/proxydevice.py'>,\n",
        " 'zmq.error': <module 'zmq.error' from '/Users/konradhalas/dev/virtualenvs/import_import/lib/python3.3/site-packages/zmq/error.py'>,\n",
        " 'zmq.eventloop': <module 'zmq.eventloop' from '/Users/konradhalas/dev/virtualenvs/import_import/lib/python3.3/site-packages/zmq/eventloop/__init__.py'>,\n",
        " 'zmq.eventloop.ioloop': <module 'zmq.eventloop.ioloop' from '/Users/konradhalas/dev/virtualenvs/import_import/lib/python3.3/site-packages/zmq/eventloop/ioloop.py'>,\n",
        " 'zmq.eventloop.minitornado': <module 'zmq.eventloop.minitornado' from '/Users/konradhalas/dev/virtualenvs/import_import/lib/python3.3/site-packages/zmq/eventloop/minitornado/__init__.py'>,\n",
        " 'zmq.eventloop.minitornado.stack_context': <module 'zmq.eventloop.minitornado.stack_context' from '/Users/konradhalas/dev/virtualenvs/import_import/lib/python3.3/site-packages/zmq/eventloop/minitornado/stack_context.py'>,\n",
        " 'zmq.eventloop.minitornado.util': <module 'zmq.eventloop.minitornado.util' from '/Users/konradhalas/dev/virtualenvs/import_import/lib/python3.3/site-packages/zmq/eventloop/minitornado/util.py'>,\n",
        " 'zmq.eventloop.zmqstream': <module 'zmq.eventloop.zmqstream' from '/Users/konradhalas/dev/virtualenvs/import_import/lib/python3.3/site-packages/zmq/eventloop/zmqstream.py'>,\n",
        " 'zmq.sugar': <module 'zmq.sugar' from '/Users/konradhalas/dev/virtualenvs/import_import/lib/python3.3/site-packages/zmq/sugar/__init__.py'>,\n",
        " 'zmq.sugar.attrsettr': <module 'zmq.sugar.attrsettr' from '/Users/konradhalas/dev/virtualenvs/import_import/lib/python3.3/site-packages/zmq/sugar/attrsettr.py'>,\n",
        " 'zmq.sugar.backend': <module 'zmq.sugar.backend' from '/Users/konradhalas/dev/virtualenvs/import_import/lib/python3.3/site-packages/zmq/sugar/backend.py'>,\n",
        " 'zmq.sugar.constants': <module 'zmq.sugar.constants' from '/Users/konradhalas/dev/virtualenvs/import_import/lib/python3.3/site-packages/zmq/sugar/constants.py'>,\n",
        " 'zmq.sugar.context': <module 'zmq.sugar.context' from '/Users/konradhalas/dev/virtualenvs/import_import/lib/python3.3/site-packages/zmq/sugar/context.py'>,\n",
        " 'zmq.sugar.frame': <module 'zmq.sugar.frame' from '/Users/konradhalas/dev/virtualenvs/import_import/lib/python3.3/site-packages/zmq/sugar/frame.py'>,\n",
        " 'zmq.sugar.poll': <module 'zmq.sugar.poll' from '/Users/konradhalas/dev/virtualenvs/import_import/lib/python3.3/site-packages/zmq/sugar/poll.py'>,\n",
        " 'zmq.sugar.socket': <module 'zmq.sugar.socket' from '/Users/konradhalas/dev/virtualenvs/import_import/lib/python3.3/site-packages/zmq/sugar/socket.py'>,\n",
        " 'zmq.sugar.tracker': <module 'zmq.sugar.tracker' from '/Users/konradhalas/dev/virtualenvs/import_import/lib/python3.3/site-packages/zmq/sugar/tracker.py'>,\n",
        " 'zmq.sugar.version': <module 'zmq.sugar.version' from '/Users/konradhalas/dev/virtualenvs/import_import/lib/python3.3/site-packages/zmq/sugar/version.py'>,\n",
        " 'zmq.utils': <module 'zmq.utils' from '/Users/konradhalas/dev/virtualenvs/import_import/lib/python3.3/site-packages/zmq/utils/__init__.py'>,\n",
        " 'zmq.utils.initthreads': <module 'zmq.utils.initthreads' from '/Users/konradhalas/dev/virtualenvs/import_import/lib/python3.3/site-packages/zmq/utils/initthreads.so'>,\n",
        " 'zmq.utils.jsonapi': <module 'zmq.utils.jsonapi' from '/Users/konradhalas/dev/virtualenvs/import_import/lib/python3.3/site-packages/zmq/utils/jsonapi.py'>,\n",
        " 'zmq.utils.strtypes': <module 'zmq.utils.strtypes' from '/Users/konradhalas/dev/virtualenvs/import_import/lib/python3.3/site-packages/zmq/utils/strtypes.py'>}"
       ]
      }
     ],
     "prompt_number": 1
    },
    {
     "cell_type": "markdown",
     "metadata": {
      "slideshow": {
       "slide_type": "slide"
      }
     },
     "source": [
      "`sys.meta_path`\n",
      "===============\n",
      "\n",
      "A list of *finder* objects that have their `find_module()` methods called to see if one of the objects can find the module to be imported."
     ]
    },
    {
     "cell_type": "code",
     "collapsed": false,
     "input": [
      "sys.meta_path"
     ],
     "language": "python",
     "metadata": {},
     "outputs": [
      {
       "metadata": {},
       "output_type": "pyout",
       "prompt_number": 2,
       "text": [
        "[_frozen_importlib.BuiltinImporter,\n",
        " _frozen_importlib.FrozenImporter,\n",
        " _frozen_importlib.PathFinder]"
       ]
      }
     ],
     "prompt_number": 2
    },
    {
     "cell_type": "markdown",
     "metadata": {
      "slideshow": {
       "slide_type": "slide"
      }
     },
     "source": [
      "Module finder\n",
      "=============\n",
      "\n",
      "* it must implement `find_module(fullname, paths=None)` method\n",
      "    * `fullname` - fully qualified name of the module\n",
      "    * `paths` - list of paths\n",
      "* it should return a *loader* object if the module was found, or `None` if it wasn't"
     ]
    },
    {
     "cell_type": "markdown",
     "metadata": {
      "slideshow": {
       "slide_type": "slide"
      }
     },
     "source": [
      "`LogFinder` - example\n",
      "====================="
     ]
    },
    {
     "cell_type": "code",
     "collapsed": false,
     "input": [
      "class LogFinder:\n",
      "    \n",
      "    def find_module(self, fullname, paths=None):\n",
      "        print('find_module - fullname: {}, paths: {}'.format(fullname, paths))\n",
      "        return None\n",
      "        \n",
      "sys.meta_path.insert(0, LogFinder())"
     ],
     "language": "python",
     "metadata": {},
     "outputs": [],
     "prompt_number": 3
    },
    {
     "cell_type": "code",
     "collapsed": false,
     "input": [
      "sys.path.append('./workspace/')"
     ],
     "language": "python",
     "metadata": {
      "slideshow": {
       "slide_type": "skip"
      }
     },
     "outputs": [],
     "prompt_number": 4
    },
    {
     "cell_type": "code",
     "collapsed": false,
     "input": [
      "import eggs"
     ],
     "language": "python",
     "metadata": {
      "slideshow": {
       "slide_type": "slide"
      }
     },
     "outputs": [
      {
       "output_type": "stream",
       "stream": "stdout",
       "text": [
        "find_module - fullname: eggs, paths: None\n"
       ]
      }
     ],
     "prompt_number": 5
    },
    {
     "cell_type": "code",
     "collapsed": false,
     "input": [
      "from spam import bacon"
     ],
     "language": "python",
     "metadata": {},
     "outputs": [
      {
       "output_type": "stream",
       "stream": "stdout",
       "text": [
        "find_module - fullname: spam, paths: None\n",
        "find_module - fullname: spam.bacon, paths: ['./workspace/spam']\n"
       ]
      }
     ],
     "prompt_number": 6
    },
    {
     "cell_type": "code",
     "collapsed": false,
     "input": [
      "del sys.modules['spam']\n",
      "del sys.modules['spam.bacon']"
     ],
     "language": "python",
     "metadata": {
      "slideshow": {
       "slide_type": "skip"
      }
     },
     "outputs": [],
     "prompt_number": 7
    },
    {
     "cell_type": "code",
     "collapsed": false,
     "input": [
      "import spam.bacon"
     ],
     "language": "python",
     "metadata": {
      "slideshow": {
       "slide_type": "-"
      }
     },
     "outputs": [
      {
       "output_type": "stream",
       "stream": "stdout",
       "text": [
        "find_module - fullname: spam, paths: None\n",
        "find_module - fullname: spam.bacon, paths: ['./workspace/spam']\n"
       ]
      }
     ],
     "prompt_number": 8
    },
    {
     "cell_type": "code",
     "collapsed": false,
     "input": [
      "'eggs' in sys.modules"
     ],
     "language": "python",
     "metadata": {
      "slideshow": {
       "slide_type": "slide"
      }
     },
     "outputs": [
      {
       "metadata": {},
       "output_type": "pyout",
       "prompt_number": 9,
       "text": [
        "True"
       ]
      }
     ],
     "prompt_number": 9
    },
    {
     "cell_type": "code",
     "collapsed": false,
     "input": [
      "'spam' in sys.modules"
     ],
     "language": "python",
     "metadata": {
      "slideshow": {
       "slide_type": "-"
      }
     },
     "outputs": [
      {
       "metadata": {},
       "output_type": "pyout",
       "prompt_number": 10,
       "text": [
        "True"
       ]
      }
     ],
     "prompt_number": 10
    },
    {
     "cell_type": "code",
     "collapsed": false,
     "input": [
      "'spam.bacon' in sys.modules"
     ],
     "language": "python",
     "metadata": {},
     "outputs": [
      {
       "metadata": {},
       "output_type": "pyout",
       "prompt_number": 11,
       "text": [
        "True"
       ]
      }
     ],
     "prompt_number": 11
    },
    {
     "cell_type": "code",
     "collapsed": false,
     "input": [
      "del sys.meta_path[0]\n",
      "del sys.modules['eggs']\n",
      "del sys.modules['spam']\n",
      "del sys.modules['spam.bacon']"
     ],
     "language": "python",
     "metadata": {
      "slideshow": {
       "slide_type": "skip"
      }
     },
     "outputs": [],
     "prompt_number": 12
    },
    {
     "cell_type": "markdown",
     "metadata": {
      "slideshow": {
       "slide_type": "slide"
      }
     },
     "source": [
      "Module finder should return a module loader object\n",
      "=================================================="
     ]
    },
    {
     "cell_type": "markdown",
     "metadata": {
      "slideshow": {
       "slide_type": "slide"
      }
     },
     "source": [
      "Module loader\n",
      "=============\n",
      "\n",
      "* loader is typically returned by a finder\n",
      "* it must define `load_module(fullname)` method\n",
      "* this method should return the loaded module or raise `ImportError` exception"
     ]
    },
    {
     "cell_type": "markdown",
     "metadata": {
      "slideshow": {
       "slide_type": "slide"
      }
     },
     "source": [
      "`LogLoader` - example\n",
      "====================="
     ]
    },
    {
     "cell_type": "code",
     "collapsed": false,
     "input": [
      "class LogFinder:\n",
      "    \n",
      "    def find_module(self, fullname, paths=None):\n",
      "        print('find_module - fullname: {}, paths: {}'.format(fullname, paths))\n",
      "        if fullname == 'eggs':\n",
      "            return LogLoader()\n",
      "        else:\n",
      "            return None\n",
      "        \n",
      "class LogLoader:\n",
      "    \n",
      "    def load_module(self, fullname):\n",
      "        print('load_module - fullname: {}'.format(fullname))\n",
      "        raise ImportError('spam spam spam')\n",
      "        \n",
      "sys.meta_path.insert(0, LogFinder())"
     ],
     "language": "python",
     "metadata": {},
     "outputs": [],
     "prompt_number": 13
    },
    {
     "cell_type": "code",
     "collapsed": false,
     "input": [
      "import eggs"
     ],
     "language": "python",
     "metadata": {
      "slideshow": {
       "slide_type": "slide"
      }
     },
     "outputs": [
      {
       "ename": "ImportError",
       "evalue": "spam spam spam",
       "output_type": "pyerr",
       "traceback": [
        "\u001b[0;31m---------------------------------------------------------------------------\u001b[0m\n\u001b[0;31mImportError\u001b[0m                               Traceback (most recent call last)",
        "\u001b[0;32m<ipython-input-14-5de045e19dc5>\u001b[0m in \u001b[0;36m<module>\u001b[0;34m()\u001b[0m\n\u001b[0;32m----> 1\u001b[0;31m \u001b[0;32mimport\u001b[0m \u001b[0meggs\u001b[0m\u001b[0;34m\u001b[0m\u001b[0m\n\u001b[0m",
        "\u001b[0;32m<ipython-input-13-6e992de0b818>\u001b[0m in \u001b[0;36mload_module\u001b[0;34m(self, fullname)\u001b[0m\n\u001b[1;32m     12\u001b[0m     \u001b[0;32mdef\u001b[0m \u001b[0mload_module\u001b[0m\u001b[0;34m(\u001b[0m\u001b[0mself\u001b[0m\u001b[0;34m,\u001b[0m \u001b[0mfullname\u001b[0m\u001b[0;34m)\u001b[0m\u001b[0;34m:\u001b[0m\u001b[0;34m\u001b[0m\u001b[0m\n\u001b[1;32m     13\u001b[0m         \u001b[0mprint\u001b[0m\u001b[0;34m(\u001b[0m\u001b[0;34m'load_module - fullname: {}'\u001b[0m\u001b[0;34m.\u001b[0m\u001b[0mformat\u001b[0m\u001b[0;34m(\u001b[0m\u001b[0mfullname\u001b[0m\u001b[0;34m)\u001b[0m\u001b[0;34m)\u001b[0m\u001b[0;34m\u001b[0m\u001b[0m\n\u001b[0;32m---> 14\u001b[0;31m         \u001b[0;32mraise\u001b[0m \u001b[0mImportError\u001b[0m\u001b[0;34m(\u001b[0m\u001b[0;34m'spam spam spam'\u001b[0m\u001b[0;34m)\u001b[0m\u001b[0;34m\u001b[0m\u001b[0m\n\u001b[0m\u001b[1;32m     15\u001b[0m \u001b[0;34m\u001b[0m\u001b[0m\n\u001b[1;32m     16\u001b[0m \u001b[0msys\u001b[0m\u001b[0;34m.\u001b[0m\u001b[0mmeta_path\u001b[0m\u001b[0;34m.\u001b[0m\u001b[0minsert\u001b[0m\u001b[0;34m(\u001b[0m\u001b[0;36m0\u001b[0m\u001b[0;34m,\u001b[0m \u001b[0mLogFinder\u001b[0m\u001b[0;34m(\u001b[0m\u001b[0;34m)\u001b[0m\u001b[0;34m)\u001b[0m\u001b[0;34m\u001b[0m\u001b[0m\n",
        "\u001b[0;31mImportError\u001b[0m: spam spam spam"
       ]
      },
      {
       "output_type": "stream",
       "stream": "stdout",
       "text": [
        "find_module - fullname: eggs, paths: None\n",
        "load_module - fullname: eggs\n"
       ]
      }
     ],
     "prompt_number": 14
    },
    {
     "cell_type": "code",
     "collapsed": false,
     "input": [
      "del sys.meta_path[0]"
     ],
     "language": "python",
     "metadata": {
      "slideshow": {
       "slide_type": "skip"
      }
     },
     "outputs": [
      {
       "output_type": "stream",
       "stream": "stdout",
       "text": [
        "find_module - fullname: zmq.core.zmq, paths: ['/Users/konradhalas/dev/virtualenvs/import_import/lib/python3.3/site-packages/zmq/core']\n",
        "find_module - fullname: zmq.core.zmq, paths: ['/Users/konradhalas/dev/virtualenvs/import_import/lib/python3.3/site-packages/zmq/core']\n"
       ]
      }
     ],
     "prompt_number": 15
    },
    {
     "cell_type": "markdown",
     "metadata": {
      "slideshow": {
       "slide_type": "slide"
      }
     },
     "source": [
      "`finder + loader == importer`\n",
      "============================="
     ]
    },
    {
     "cell_type": "code",
     "collapsed": false,
     "input": [
      "class LogImporter:\n",
      "    \n",
      "    def find_module(self, fullname, paths=None):\n",
      "        print('find_module - fullname: {}, paths: {}'.format(fullname, paths))\n",
      "        if fullname == 'eggs':\n",
      "            return self\n",
      "        else:\n",
      "            return None\n",
      "    \n",
      "    def load_module(self, fullname):\n",
      "        print('load_module - fullname: {}'.format(fullname))\n",
      "        raise ImportError('spam spam spam')\n",
      "        \n",
      "sys.meta_path.insert(0, LogImporter())"
     ],
     "language": "python",
     "metadata": {},
     "outputs": [],
     "prompt_number": 16
    },
    {
     "cell_type": "code",
     "collapsed": false,
     "input": [
      "del sys.meta_path[0]"
     ],
     "language": "python",
     "metadata": {
      "slideshow": {
       "slide_type": "skip"
      }
     },
     "outputs": [],
     "prompt_number": 17
    },
    {
     "cell_type": "markdown",
     "metadata": {
      "slideshow": {
       "slide_type": "slide"
      }
     },
     "source": [
      "`load_module` method responsibilities\n",
      "=====================================\n",
      "\n",
      "1. it must create empty module and add it to `sys.modules` or use existing one\n",
      "2. it may set the `__file__` attribute of the module\n",
      "3. it may set the `__name__` attribute of the module\n",
      "4. if the module is a package, it must set the module `__path__` attribute\n",
      "5. it must set the module `__loader__` attribute\n",
      "6. it may set the `__package__` attribute of the module\n",
      "7. if the module is a Python module, it should execute the module\u2019s code\n",
      "8. it must return created module"
     ]
    },
    {
     "cell_type": "markdown",
     "metadata": {
      "slideshow": {
       "slide_type": "slide"
      }
     },
     "source": [
      "`DynamicImporter` - example\n",
      "==========================="
     ]
    },
    {
     "cell_type": "code",
     "collapsed": false,
     "input": [
      "import types\n",
      "\n",
      "class DynamicImporter:\n",
      "\n",
      "    def __init__(self, name, code):\n",
      "        self.name = name\n",
      "        self.code = code\n",
      "\n",
      "    def find_module(self, name, path):\n",
      "        if name == self.name:\n",
      "            return self\n",
      "        else:\n",
      "            return None\n",
      "\n",
      "    def load_module(self, name):\n",
      "        if name in sys.modules:\n",
      "            module = sys.modules[name]\n",
      "        else:\n",
      "            module = types.ModuleType(name)\n",
      "            sys.modules[name] = module\n",
      "        module.__loader__ = self\n",
      "        exec(self.code, module.__dict__)\n",
      "        return module"
     ],
     "language": "python",
     "metadata": {},
     "outputs": [],
     "prompt_number": 18
    },
    {
     "cell_type": "code",
     "collapsed": false,
     "input": [
      "sys.meta_path.insert(0, DynamicImporter(name='spam', code='eggs = True'))\n",
      "\n",
      "import spam\n",
      "\n",
      "print(spam.eggs)"
     ],
     "language": "python",
     "metadata": {
      "slideshow": {
       "slide_type": "slide"
      }
     },
     "outputs": [
      {
       "output_type": "stream",
       "stream": "stdout",
       "text": [
        "True\n"
       ]
      }
     ],
     "prompt_number": 19
    },
    {
     "cell_type": "code",
     "collapsed": false,
     "input": [
      "del sys.meta_path[0]"
     ],
     "language": "python",
     "metadata": {
      "slideshow": {
       "slide_type": "skip"
      }
     },
     "outputs": [],
     "prompt_number": 20
    },
    {
     "cell_type": "markdown",
     "metadata": {
      "slideshow": {
       "slide_type": "slide"
      }
     },
     "source": [
      "Circular dependency example\n",
      "==========================="
     ]
    },
    {
     "cell_type": "markdown",
     "metadata": {},
     "source": [
      "```\n",
      "# a.py\n",
      "\n",
      "import b\n",
      "\n",
      "X = 1\n",
      "\n",
      "# b.py\n",
      "\n",
      "import a\n",
      "\n",
      "print(a.X)\n",
      "```"
     ]
    },
    {
     "cell_type": "code",
     "collapsed": false,
     "input": [
      "import a"
     ],
     "language": "python",
     "metadata": {},
     "outputs": [
      {
       "ename": "AttributeError",
       "evalue": "'module' object has no attribute 'X'",
       "output_type": "pyerr",
       "traceback": [
        "\u001b[0;31m---------------------------------------------------------------------------\u001b[0m\n\u001b[0;31mAttributeError\u001b[0m                            Traceback (most recent call last)",
        "\u001b[0;32m<ipython-input-21-370c047e3c7f>\u001b[0m in \u001b[0;36m<module>\u001b[0;34m()\u001b[0m\n\u001b[0;32m----> 1\u001b[0;31m \u001b[0;32mimport\u001b[0m \u001b[0ma\u001b[0m\u001b[0;34m\u001b[0m\u001b[0m\n\u001b[0m",
        "\u001b[0;32m/Users/konradhalas/dev/workspace/personal/import_import_presentation/workspace/a.py\u001b[0m in \u001b[0;36m<module>\u001b[0;34m()\u001b[0m\n\u001b[0;32m----> 1\u001b[0;31m \u001b[0;32mimport\u001b[0m \u001b[0mb\u001b[0m\u001b[0;34m\u001b[0m\u001b[0m\n\u001b[0m\u001b[1;32m      2\u001b[0m \u001b[0;34m\u001b[0m\u001b[0m\n\u001b[1;32m      3\u001b[0m \u001b[0mX\u001b[0m \u001b[0;34m=\u001b[0m \u001b[0;36m1\u001b[0m\u001b[0;34m\u001b[0m\u001b[0m\n",
        "\u001b[0;32m/Users/konradhalas/dev/workspace/personal/import_import_presentation/workspace/b.py\u001b[0m in \u001b[0;36m<module>\u001b[0;34m()\u001b[0m\n\u001b[1;32m      1\u001b[0m \u001b[0;32mimport\u001b[0m \u001b[0ma\u001b[0m\u001b[0;34m\u001b[0m\u001b[0m\n\u001b[1;32m      2\u001b[0m \u001b[0;34m\u001b[0m\u001b[0m\n\u001b[0;32m----> 3\u001b[0;31m \u001b[0mprint\u001b[0m\u001b[0;34m(\u001b[0m\u001b[0ma\u001b[0m\u001b[0;34m.\u001b[0m\u001b[0mX\u001b[0m\u001b[0;34m)\u001b[0m\u001b[0;34m\u001b[0m\u001b[0m\n\u001b[0m",
        "\u001b[0;31mAttributeError\u001b[0m: 'module' object has no attribute 'X'"
       ]
      }
     ],
     "prompt_number": 21
    },
    {
     "cell_type": "markdown",
     "metadata": {
      "slideshow": {
       "slide_type": "slide"
      }
     },
     "source": [
      "Circular dependency solution\n",
      "============================\n",
      "\n",
      "* merge modules\n",
      "* extract common artefacts\n",
      "* defer `import` (put it into method body)"
     ]
    },
    {
     "cell_type": "markdown",
     "metadata": {
      "slideshow": {
       "slide_type": "slide"
      }
     },
     "source": [
      "How \"normal\" `import` works?\n",
      "=========================="
     ]
    },
    {
     "cell_type": "code",
     "collapsed": false,
     "input": [
      "sys.meta_path"
     ],
     "language": "python",
     "metadata": {
      "slideshow": {
       "slide_type": "slide"
      }
     },
     "outputs": [
      {
       "metadata": {},
       "output_type": "pyout",
       "prompt_number": 22,
       "text": [
        "[_frozen_importlib.BuiltinImporter,\n",
        " _frozen_importlib.FrozenImporter,\n",
        " _frozen_importlib.PathFinder]"
       ]
      }
     ],
     "prompt_number": 22
    },
    {
     "cell_type": "markdown",
     "metadata": {
      "slideshow": {
       "slide_type": "slide"
      }
     },
     "source": [
      "Machinery structures\n",
      "====================\n",
      "\n",
      "1. `sys.modules`\n",
      "2. `sys.meta_path`\n",
      "3. **`sys.path`**\n",
      "4. **`sys.path_hooks`**\n",
      "5. **`sys.path_importer_cache`**"
     ]
    },
    {
     "cell_type": "markdown",
     "metadata": {
      "slideshow": {
       "slide_type": "slide"
      }
     },
     "source": [
      "`PathFinder` - path based finder\n",
      "================================\n",
      "\n",
      "1. iterates over `sys.path`\n",
      "2. for each *path entry* in `sys.path` iterates over every callable in `sys.path_hooks`\n",
      "3. each of the *path entry hooks* in `sys.path_hooks` is called with a single argument - path\n",
      "4. path entry hook should return *path entry finder* or raise `ImportError`\n",
      "5. returend path entry finder is cached in `sys.path_importer_cache`\n",
      "6. call `find_loader` method on returned path entry finder with a single argument - fully qualified module name\n",
      "7. this method should return loader (and namespace portion) or raise `ImportError`"
     ]
    },
    {
     "cell_type": "code",
     "collapsed": false,
     "input": [
      "def http_path_entry_hook(path):\n",
      "    if path.startswith('http://') or path.startswith('https://'):\n",
      "        return HttpPathEntryFinder(path)\n",
      "    else:\n",
      "        raise ImportError()"
     ],
     "language": "python",
     "metadata": {
      "slideshow": {
       "slide_type": "slide"
      }
     },
     "outputs": [],
     "prompt_number": 23
    },
    {
     "cell_type": "code",
     "collapsed": false,
     "input": [
      "import requests\n",
      "\n",
      "class HttpPathEntryFinder:\n",
      "\n",
      "    def __init__(self, path):\n",
      "        self.path = path\n",
      "\n",
      "    def find_loader(self, name):\n",
      "        url = self.path + name + '.py'\n",
      "        if requests.head(url).status_code == 200:\n",
      "            return HttpLoader(url), None\n",
      "        else:\n",
      "            raise ImportError()"
     ],
     "language": "python",
     "metadata": {
      "slideshow": {
       "slide_type": "slide"
      }
     },
     "outputs": [],
     "prompt_number": 24
    },
    {
     "cell_type": "code",
     "collapsed": false,
     "input": [
      "class HttpLoader:\n",
      "\n",
      "    def __init__(self, url):\n",
      "        self.url = url\n",
      "\n",
      "    def load_module(self, name):\n",
      "        if name in sys.modules:\n",
      "            module = sys.modules[name]\n",
      "        else:\n",
      "            module = types.ModuleType(name)\n",
      "            sys.modules[name] = module\n",
      "        module.__loader__ = self\n",
      "        module.__file__ = self.url\n",
      "        response = requests.get(self.url)\n",
      "        exec(response.content, module.__dict__)\n",
      "        return module"
     ],
     "language": "python",
     "metadata": {
      "slideshow": {
       "slide_type": "slide"
      }
     },
     "outputs": [],
     "prompt_number": 25
    },
    {
     "cell_type": "code",
     "collapsed": false,
     "input": [
      "sys.path_hooks.insert(0, http_path_entry_hook)\n",
      "sys.path.append('https://raw.github.com/jcrocholl/pep8/master/')"
     ],
     "language": "python",
     "metadata": {
      "slideshow": {
       "slide_type": "slide"
      }
     },
     "outputs": [],
     "prompt_number": 26
    },
    {
     "cell_type": "code",
     "collapsed": false,
     "input": [
      "import pep8"
     ],
     "language": "python",
     "metadata": {},
     "outputs": [],
     "prompt_number": 27
    },
    {
     "cell_type": "code",
     "collapsed": false,
     "input": [
      "pep8"
     ],
     "language": "python",
     "metadata": {},
     "outputs": [
      {
       "metadata": {},
       "output_type": "pyout",
       "prompt_number": 28,
       "text": [
        "<module 'pep8' from 'https://raw.github.com/jcrocholl/pep8/master/pep8.py'>"
       ]
      }
     ],
     "prompt_number": 28
    },
    {
     "cell_type": "code",
     "collapsed": false,
     "input": [
      "pep8.Checker(lines=['x  +  y\\n']).check_all()"
     ],
     "language": "python",
     "metadata": {},
     "outputs": [
      {
       "output_type": "stream",
       "stream": "stdout",
       "text": [
        "stdin:1:2: E221 multiple spaces before operator\n",
        "stdin:1:5: E222 multiple spaces after operator\n"
       ]
      },
      {
       "metadata": {},
       "output_type": "pyout",
       "prompt_number": 29,
       "text": [
        "2"
       ]
      }
     ],
     "prompt_number": 29
    },
    {
     "cell_type": "code",
     "collapsed": false,
     "input": [
      "del sys.path[-1]\n",
      "del sys.path_hooks[0]\n",
      "del sys.modules['pep8']"
     ],
     "language": "python",
     "metadata": {
      "slideshow": {
       "slide_type": "skip"
      }
     },
     "outputs": [],
     "prompt_number": 30
    },
    {
     "cell_type": "markdown",
     "metadata": {
      "slideshow": {
       "slide_type": "slide"
      }
     },
     "source": [
      "Good import practices\n",
      "=====================\n",
      "\n",
      "* put all imports at the top of the file\n",
      "* divide imports into 3 sections by blank lines:\n",
      "     * Python modules\n",
      "     * third-party modules\n",
      "     * your modules\n",
      "* put two blank lines after last section\n",
      "* each section should be sorted alphabetically\n",
      "* only one import should be on each line\n",
      "* avoid *star* imports\n",
      "* don't import single artefact, import whole module\n",
      "* use relative imports if you can\n",
      "* avoid `from-import-as`"
     ]
    },
    {
     "cell_type": "markdown",
     "metadata": {
      "slideshow": {
       "slide_type": "slide"
      }
     },
     "source": [
      "Bad example\n",
      "==========="
     ]
    },
    {
     "cell_type": "markdown",
     "metadata": {},
     "source": [
      "```\n",
      "import requests, ast\n",
      "from xml import *\n",
      "from json import dump\n",
      "from spam import eggs  # current package\n",
      "from os import path as os_path\n",
      "X = 1\n",
      "```"
     ]
    },
    {
     "cell_type": "markdown",
     "metadata": {
      "slideshow": {
       "slide_type": "slide"
      }
     },
     "source": [
      "Good example\n",
      "============"
     ]
    },
    {
     "cell_type": "markdown",
     "metadata": {
      "slideshow": {
       "slide_type": "-"
      }
     },
     "source": [
      "```\n",
      "import ast\n",
      "import json\n",
      "import os\n",
      "from xml import sax\n",
      "\n",
      "import requests\n",
      "\n",
      "from . import eggs\n",
      "\n",
      "\n",
      "X = 1\n",
      "```"
     ]
    },
    {
     "cell_type": "markdown",
     "metadata": {
      "slideshow": {
       "slide_type": "slide"
      }
     },
     "source": [
      "Not covered topics\n",
      "==================\n",
      "\n",
      "* `importlib` module\n",
      "* namespace packages\n",
      "* `BuiltinImporter` and `FrozenImporter`"
     ]
    },
    {
     "cell_type": "markdown",
     "metadata": {
      "slideshow": {
       "slide_type": "slide"
      }
     },
     "source": [
      "Summary\n",
      "=======\n",
      "\n",
      "* you could do magic with `import` statement\n",
      "* `import` machinery is quite complicated, but also reasonably\n",
      "* follow good practices\n",
      "* don't do that at home"
     ]
    },
    {
     "cell_type": "markdown",
     "metadata": {
      "slideshow": {
       "slide_type": "slide"
      }
     },
     "source": [
      "Thank you!\n",
      "==========\n",
      "\n",
      "Q&A\n",
      "\n",
      "Presentation source code: [bitbucket.org/khalas/import_import_presentation](https://bitbucket.org/khalas/import_import_presentation)"
     ]
    }
   ],
   "metadata": {}
  }
 ]
}