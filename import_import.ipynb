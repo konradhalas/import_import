{
 "metadata": {
  "name": ""
 },
 "nbformat": 3,
 "nbformat_minor": 0,
 "worksheets": [
  {
   "cells": [
    {
     "cell_type": "markdown",
     "metadata": {
      "slideshow": {
       "slide_type": "slide"
      }
     },
     "source": [
      "import import\n",
      "=============\n",
      "\n",
      "Konrad Ha\u0142as (@konradhalas)"
     ]
    },
    {
     "cell_type": "markdown",
     "metadata": {
      "slideshow": {
       "slide_type": "slide"
      }
     },
     "source": [
      "Few words about me\n",
      "==================\n",
      "\n",
      "* PyWaw\n",
      "* SUNSCRAPERS\n",
      "* MutPy"
     ]
    },
    {
     "cell_type": "markdown",
     "metadata": {
      "slideshow": {
       "slide_type": "slide"
      }
     },
     "source": [
      "Agenda\n",
      "======\n",
      "\n",
      "* history review\n",
      "* syntax definition\n",
      "* inside machinery\n",
      "* best practicies\n",
      "* common problems"
     ]
    },
    {
     "cell_type": "code",
     "collapsed": true,
     "input": [],
     "language": "python",
     "metadata": {},
     "outputs": []
    }
   ],
   "metadata": {}
  }
 ]
}